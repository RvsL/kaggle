{
  "nbformat": 4,
  "nbformat_minor": 0,
  "metadata": {
    "colab": {
      "name": "eruptions2.ipynb",
      "provenance": [],
      "collapsed_sections": [],
      "mount_file_id": "1LV2Vw6WvG1x_rzbMS5ddhRIZ-PVL7Ohz",
      "authorship_tag": "ABX9TyMIYLbbxai5BTLfmeK381/T",
      "include_colab_link": true
    },
    "kernelspec": {
      "name": "python3",
      "display_name": "Python 3"
    },
    "accelerator": "GPU"
  },
  "cells": [
    {
      "cell_type": "markdown",
      "metadata": {
        "id": "view-in-github",
        "colab_type": "text"
      },
      "source": [
        "<a href=\"https://colab.research.google.com/github/RvsL/kaggle/blob/main/eruptions2.ipynb\" target=\"_parent\"><img src=\"https://colab.research.google.com/assets/colab-badge.svg\" alt=\"Open In Colab\"/></a>"
      ]
    },
    {
      "cell_type": "code",
      "metadata": {
        "id": "1A9H4LFeDNrR"
      },
      "source": [
        ""
      ],
      "execution_count": null,
      "outputs": []
    },
    {
      "cell_type": "markdown",
      "metadata": {
        "id": "N45rkNZ8DVOx"
      },
      "source": [
        "# Новый раздел"
      ]
    },
    {
      "cell_type": "code",
      "metadata": {
        "id": "3k7ohMcuD41H"
      },
      "source": [
        "import pandas as pd\n",
        "import numpy as np\n",
        "import zipfile as zf\n",
        "import os\n",
        "import datetime as dt\n",
        "from tqdm import tqdm, tqdm_notebook\n",
        "import re\n",
        "import string\n",
        "import warnings\n",
        "import matplotlib.pyplot as plt\n",
        "from sklearn.preprocessing import StandardScaler\n",
        "\n",
        "plt.style.use('ggplot')\n",
        "\n",
        "\n",
        "def get_df_name(df):\n",
        "    name =[x for x in globals() if globals()[x] is df][0]\n",
        "    return name\n",
        "def tstats(t, doplot = False):\n",
        "    print('#'*20, get_df_name(t), t.shape)\n",
        "    for _,i in enumerate(t):\n",
        "        nulls = t[i].isna().sum()\n",
        "        if nulls > 0:\n",
        "            print(i,'=', t[i].nunique(), ',NULLS = ', nulls, ',% of nulls = ',round(100*nulls/t.shape[0]))\n",
        "        else:\n",
        "            print(i,'=', t[i].nunique())\n",
        "    if doplot:\n",
        "        print()\n",
        "        print(t.sample(10))\n",
        "        print()\n",
        "        \n",
        "warnings.filterwarnings('ignore')\n",
        "from sklearn import metrics\n",
        "from sklearn.cluster import KMeans\n"
      ],
      "execution_count": 3,
      "outputs": []
    },
    {
      "cell_type": "code",
      "metadata": {
        "id": "9FLXsQM-D5V0"
      },
      "source": [
        "import lightgbm as lgb\n",
        "import pandas as pd\n",
        "from sklearn.metrics import mean_squared_error, mean_absolute_error\n",
        "from sklearn.metrics import f1_score,recall_score,precision_score,roc_auc_score\n",
        "from sklearn.model_selection import GridSearchCV, train_test_split\n",
        "# from sklearn.ensemble import RandomForestRegressor\n",
        "# from catboost import CatBoostRegressor\n",
        "from sklearn.model_selection import KFold\n",
        "import gc\n",
        "\n",
        "def plot_history(history, metricname):\n",
        "    recall = history.history[metricname]\n",
        "    val_recall = history.history['val_' + metricname]\n",
        "    loss = history.history['loss']\n",
        "    val_loss = history.history['val_loss']\n",
        "    x = range(1, len(recall) + 1)\n",
        "\n",
        "    plt.figure(figsize=(12, 5))\n",
        "    plt.subplot(1, 2, 1)\n",
        "    plt.plot(x, recall, 'b', label='Training')\n",
        "    plt.plot(x, val_recall, 'r', label='Validation')\n",
        "    plt.title('Training and validation')\n",
        "    plt.legend()\n",
        "    plt.subplot(1, 2, 2)\n",
        "    plt.plot(x, loss, 'b', label='Training loss')\n",
        "    plt.plot(x, val_loss, 'r', label='Validation loss')\n",
        "    plt.title('Training and validation loss')\n",
        "    plt.legend()\n",
        "    plt.show()\n",
        "    \n",
        "from keras import regularizers as kreg\n",
        "from keras.layers import Dense\n",
        "from keras.models import Sequential"
      ],
      "execution_count": 5,
      "outputs": []
    },
    {
      "cell_type": "code",
      "metadata": {
        "colab": {
          "base_uri": "https://localhost:8080/",
          "height": 562
        },
        "id": "btkOHfnAEHTm",
        "outputId": "5481c0da-ee4c-4086-957b-623d5a9e1e51"
      },
      "source": [
        "def prepare_data(scale=False, do_cluster=False):\n",
        "    \n",
        "    t4m = pd.read_csv('/content/drive/MyDrive/2 - рабочее/32 - PMI/random/t4m_37.csv')\n",
        "    t4p = pd.read_csv('/content/drive/MyDrive/2 - рабочее/32 - PMI/random/t4m_37.csv')\n",
        "    features = t4m.columns[1:-1]\n",
        "    target = 'time_to_eruption'\n",
        "\n",
        "    df = t4m[t4m.columns[1:]].copy()\n",
        "    t = df.corr()[target].reset_index()\n",
        "    t[target] = abs(t[target])\n",
        "    t.sort_values(by=target, ascending = False)\n",
        "\n",
        "    t = t.loc[(t[target] > 0.05)&(t[target] < 1)].sort_values(by=target, ascending=False).reset_index()\n",
        "\n",
        "    good_features = t['index'].values\n",
        "\n",
        "    scaler = StandardScaler()\n",
        "\n",
        "    # for train\n",
        "    t = pd.DataFrame(scaler.fit_transform(t4m[good_features]), columns = good_features)\n",
        "\n",
        "    t['sum_feat'] = t[good_features].sum(axis=1)\n",
        "    t['mul_feat'] = t[good_features].prod(axis=1)\n",
        "    t['s_m_feat'] = t['sum_feat'] * t['mul_feat']\n",
        "\n",
        "    t4m['sum_feat'] = t['sum_feat'].values\n",
        "    t4m['mul_feat'] = t['mul_feat'].values\n",
        "    t4m['s_m_feat'] = t['s_m_feat'].values\n",
        "\n",
        "\n",
        "    # for test\n",
        "    t = pd.DataFrame(scaler.fit_transform(t4p[good_features]), columns = good_features)\n",
        "\n",
        "    t['sum_feat'] = t[good_features].sum(axis=1)\n",
        "    t['mul_feat'] = t[good_features].prod(axis=1)\n",
        "    t['s_m_feat'] = t['sum_feat'] * t['mul_feat']\n",
        "\n",
        "    t4p['sum_feat'] = t['sum_feat'].values\n",
        "    t4p['mul_feat'] = t['mul_feat'].values\n",
        "    t4p['s_m_feat'] = t['s_m_feat'].values\n",
        "\n",
        "    feat = list(features)\n",
        "    feat.append('sum_feat')\n",
        "    feat.append('mul_feat')\n",
        "    feat.append('s_m_feat')\n",
        "    \n",
        "    if do_cluster:\n",
        "        clfeat = ['s06_r00000_5000_my', 's03_r05000_10000_my', 's10p_peak_x00',\n",
        "              's04p_peak_x00', 's02_r15000_20000_sy', 's05_r05000_10000_my',\n",
        "              's08p_peak_x00', 's06_r00000_5000_sy', 's02_r20000_25000_my',\n",
        "              's06p_peak_y00', 's08_r00000_5000_my', 's05_r10000_15000_sy',\n",
        "              's08p_peak_y02', 's06p_peak_x00', 'sum_feat']    \n",
        "\n",
        "        kmeans = KMeans(init='k-means++', n_clusters=10, n_init=10)\n",
        "        kmeans.fit(t4m[clfeat])\n",
        "        t4m['cluster'] = kmeans.labels_\n",
        "        t4p['cluster'] = kmeans.predict(t4p[clfeat])\n",
        "        feat.append('cluster')\n",
        "    \n",
        "\n",
        "    if scale:\n",
        "        scaler = StandardScaler()\n",
        "        t4m[feat] = scaler.fit_transform(t4m[feat])\n",
        "        t4p[feat] = scaler.transform(t4p[feat])\n",
        "    \n",
        "    X, y = t4m[feat], t4m[target]\n",
        "\n",
        "    data = y.values.reshape(-1, 1)\n",
        "\n",
        "    from sklearn.preprocessing import QuantileTransformer\n",
        "\n",
        "    rng = np.random.RandomState(304)\n",
        "    qt = QuantileTransformer(n_quantiles=1000, output_distribution='normal',\n",
        "                             random_state=rng)\n",
        "\n",
        "    z = qt.fit_transform(data)\n",
        "    z_back = qt.inverse_transform(z)\n",
        "\n",
        "#     plt.figure(figsize=(15,5))\n",
        "#     plt.subplot(131)\n",
        "#     plt.hist(data)\n",
        "#     plt.title('y')\n",
        "\n",
        "#     plt.subplot(132)\n",
        "#     plt.hist(z, bins = 50)\n",
        "#     plt.title('z')\n",
        "\n",
        "#     plt.subplot(133)\n",
        "#     plt.hist(z_back, bins = 50)\n",
        "#     plt.title('inverse')\n",
        "\n",
        "#     plt.show()\n",
        "    \n",
        "    return t4m, t4p, X, y, z, feat, target, qt\n",
        "\n",
        "t4m, t4p, X, y, z, feat, target, qt = prepare_data()\n",
        "\n",
        "def de_qt(val):\n",
        "    return qt.inverse_transform(val.reshape(-1, 1)).ravel()"
      ],
      "execution_count": 8,
      "outputs": [
        {
          "output_type": "error",
          "ename": "KeyError",
          "evalue": "ignored",
          "traceback": [
            "\u001b[0;31m---------------------------------------------------------------------------\u001b[0m",
            "\u001b[0;31mKeyError\u001b[0m                                  Traceback (most recent call last)",
            "\u001b[0;32m/usr/local/lib/python3.6/dist-packages/pandas/core/indexes/base.py\u001b[0m in \u001b[0;36mget_loc\u001b[0;34m(self, key, method, tolerance)\u001b[0m\n\u001b[1;32m   2897\u001b[0m             \u001b[0;32mtry\u001b[0m\u001b[0;34m:\u001b[0m\u001b[0;34m\u001b[0m\u001b[0;34m\u001b[0m\u001b[0m\n\u001b[0;32m-> 2898\u001b[0;31m                 \u001b[0;32mreturn\u001b[0m \u001b[0mself\u001b[0m\u001b[0;34m.\u001b[0m\u001b[0m_engine\u001b[0m\u001b[0;34m.\u001b[0m\u001b[0mget_loc\u001b[0m\u001b[0;34m(\u001b[0m\u001b[0mcasted_key\u001b[0m\u001b[0;34m)\u001b[0m\u001b[0;34m\u001b[0m\u001b[0;34m\u001b[0m\u001b[0m\n\u001b[0m\u001b[1;32m   2899\u001b[0m             \u001b[0;32mexcept\u001b[0m \u001b[0mKeyError\u001b[0m \u001b[0;32mas\u001b[0m \u001b[0merr\u001b[0m\u001b[0;34m:\u001b[0m\u001b[0;34m\u001b[0m\u001b[0;34m\u001b[0m\u001b[0m\n",
            "\u001b[0;32mpandas/_libs/index.pyx\u001b[0m in \u001b[0;36mpandas._libs.index.IndexEngine.get_loc\u001b[0;34m()\u001b[0m\n",
            "\u001b[0;32mpandas/_libs/index.pyx\u001b[0m in \u001b[0;36mpandas._libs.index.IndexEngine.get_loc\u001b[0;34m()\u001b[0m\n",
            "\u001b[0;32mpandas/_libs/hashtable_class_helper.pxi\u001b[0m in \u001b[0;36mpandas._libs.hashtable.PyObjectHashTable.get_item\u001b[0;34m()\u001b[0m\n",
            "\u001b[0;32mpandas/_libs/hashtable_class_helper.pxi\u001b[0m in \u001b[0;36mpandas._libs.hashtable.PyObjectHashTable.get_item\u001b[0;34m()\u001b[0m\n",
            "\u001b[0;31mKeyError\u001b[0m: 'time_to_eruption'",
            "\nThe above exception was the direct cause of the following exception:\n",
            "\u001b[0;31mKeyError\u001b[0m                                  Traceback (most recent call last)",
            "\u001b[0;32m<ipython-input-8-3845719f4857>\u001b[0m in \u001b[0;36m<module>\u001b[0;34m()\u001b[0m\n\u001b[1;32m     94\u001b[0m     \u001b[0;32mreturn\u001b[0m \u001b[0mt4m\u001b[0m\u001b[0;34m,\u001b[0m \u001b[0mt4p\u001b[0m\u001b[0;34m,\u001b[0m \u001b[0mX\u001b[0m\u001b[0;34m,\u001b[0m \u001b[0my\u001b[0m\u001b[0;34m,\u001b[0m \u001b[0mz\u001b[0m\u001b[0;34m,\u001b[0m \u001b[0mfeat\u001b[0m\u001b[0;34m,\u001b[0m \u001b[0mtarget\u001b[0m\u001b[0;34m,\u001b[0m \u001b[0mqt\u001b[0m\u001b[0;34m\u001b[0m\u001b[0;34m\u001b[0m\u001b[0m\n\u001b[1;32m     95\u001b[0m \u001b[0;34m\u001b[0m\u001b[0m\n\u001b[0;32m---> 96\u001b[0;31m \u001b[0mt4m\u001b[0m\u001b[0;34m,\u001b[0m \u001b[0mt4p\u001b[0m\u001b[0;34m,\u001b[0m \u001b[0mX\u001b[0m\u001b[0;34m,\u001b[0m \u001b[0my\u001b[0m\u001b[0;34m,\u001b[0m \u001b[0mz\u001b[0m\u001b[0;34m,\u001b[0m \u001b[0mfeat\u001b[0m\u001b[0;34m,\u001b[0m \u001b[0mtarget\u001b[0m\u001b[0;34m,\u001b[0m \u001b[0mqt\u001b[0m \u001b[0;34m=\u001b[0m \u001b[0mprepare_data\u001b[0m\u001b[0;34m(\u001b[0m\u001b[0;34m)\u001b[0m\u001b[0;34m\u001b[0m\u001b[0;34m\u001b[0m\u001b[0m\n\u001b[0m\u001b[1;32m     97\u001b[0m \u001b[0;34m\u001b[0m\u001b[0m\n\u001b[1;32m     98\u001b[0m \u001b[0;32mdef\u001b[0m \u001b[0mde_qt\u001b[0m\u001b[0;34m(\u001b[0m\u001b[0mval\u001b[0m\u001b[0;34m)\u001b[0m\u001b[0;34m:\u001b[0m\u001b[0;34m\u001b[0m\u001b[0;34m\u001b[0m\u001b[0m\n",
            "\u001b[0;32m<ipython-input-8-3845719f4857>\u001b[0m in \u001b[0;36mprepare_data\u001b[0;34m(scale, do_cluster)\u001b[0m\n\u001b[1;32m      7\u001b[0m \u001b[0;34m\u001b[0m\u001b[0m\n\u001b[1;32m      8\u001b[0m     \u001b[0mdf\u001b[0m \u001b[0;34m=\u001b[0m \u001b[0mt4m\u001b[0m\u001b[0;34m[\u001b[0m\u001b[0mt4m\u001b[0m\u001b[0;34m.\u001b[0m\u001b[0mcolumns\u001b[0m\u001b[0;34m[\u001b[0m\u001b[0;36m1\u001b[0m\u001b[0;34m:\u001b[0m\u001b[0;34m]\u001b[0m\u001b[0;34m]\u001b[0m\u001b[0;34m.\u001b[0m\u001b[0mcopy\u001b[0m\u001b[0;34m(\u001b[0m\u001b[0;34m)\u001b[0m\u001b[0;34m\u001b[0m\u001b[0;34m\u001b[0m\u001b[0m\n\u001b[0;32m----> 9\u001b[0;31m     \u001b[0mt\u001b[0m \u001b[0;34m=\u001b[0m \u001b[0mdf\u001b[0m\u001b[0;34m.\u001b[0m\u001b[0mcorr\u001b[0m\u001b[0;34m(\u001b[0m\u001b[0;34m)\u001b[0m\u001b[0;34m[\u001b[0m\u001b[0mtarget\u001b[0m\u001b[0;34m]\u001b[0m\u001b[0;34m.\u001b[0m\u001b[0mreset_index\u001b[0m\u001b[0;34m(\u001b[0m\u001b[0;34m)\u001b[0m\u001b[0;34m\u001b[0m\u001b[0;34m\u001b[0m\u001b[0m\n\u001b[0m\u001b[1;32m     10\u001b[0m     \u001b[0mt\u001b[0m\u001b[0;34m[\u001b[0m\u001b[0mtarget\u001b[0m\u001b[0;34m]\u001b[0m \u001b[0;34m=\u001b[0m \u001b[0mabs\u001b[0m\u001b[0;34m(\u001b[0m\u001b[0mt\u001b[0m\u001b[0;34m[\u001b[0m\u001b[0mtarget\u001b[0m\u001b[0;34m]\u001b[0m\u001b[0;34m)\u001b[0m\u001b[0;34m\u001b[0m\u001b[0;34m\u001b[0m\u001b[0m\n\u001b[1;32m     11\u001b[0m     \u001b[0mt\u001b[0m\u001b[0;34m.\u001b[0m\u001b[0msort_values\u001b[0m\u001b[0;34m(\u001b[0m\u001b[0mby\u001b[0m\u001b[0;34m=\u001b[0m\u001b[0mtarget\u001b[0m\u001b[0;34m,\u001b[0m \u001b[0mascending\u001b[0m \u001b[0;34m=\u001b[0m \u001b[0;32mFalse\u001b[0m\u001b[0;34m)\u001b[0m\u001b[0;34m\u001b[0m\u001b[0;34m\u001b[0m\u001b[0m\n",
            "\u001b[0;32m/usr/local/lib/python3.6/dist-packages/pandas/core/frame.py\u001b[0m in \u001b[0;36m__getitem__\u001b[0;34m(self, key)\u001b[0m\n\u001b[1;32m   2904\u001b[0m             \u001b[0;32mif\u001b[0m \u001b[0mself\u001b[0m\u001b[0;34m.\u001b[0m\u001b[0mcolumns\u001b[0m\u001b[0;34m.\u001b[0m\u001b[0mnlevels\u001b[0m \u001b[0;34m>\u001b[0m \u001b[0;36m1\u001b[0m\u001b[0;34m:\u001b[0m\u001b[0;34m\u001b[0m\u001b[0;34m\u001b[0m\u001b[0m\n\u001b[1;32m   2905\u001b[0m                 \u001b[0;32mreturn\u001b[0m \u001b[0mself\u001b[0m\u001b[0;34m.\u001b[0m\u001b[0m_getitem_multilevel\u001b[0m\u001b[0;34m(\u001b[0m\u001b[0mkey\u001b[0m\u001b[0;34m)\u001b[0m\u001b[0;34m\u001b[0m\u001b[0;34m\u001b[0m\u001b[0m\n\u001b[0;32m-> 2906\u001b[0;31m             \u001b[0mindexer\u001b[0m \u001b[0;34m=\u001b[0m \u001b[0mself\u001b[0m\u001b[0;34m.\u001b[0m\u001b[0mcolumns\u001b[0m\u001b[0;34m.\u001b[0m\u001b[0mget_loc\u001b[0m\u001b[0;34m(\u001b[0m\u001b[0mkey\u001b[0m\u001b[0;34m)\u001b[0m\u001b[0;34m\u001b[0m\u001b[0;34m\u001b[0m\u001b[0m\n\u001b[0m\u001b[1;32m   2907\u001b[0m             \u001b[0;32mif\u001b[0m \u001b[0mis_integer\u001b[0m\u001b[0;34m(\u001b[0m\u001b[0mindexer\u001b[0m\u001b[0;34m)\u001b[0m\u001b[0;34m:\u001b[0m\u001b[0;34m\u001b[0m\u001b[0;34m\u001b[0m\u001b[0m\n\u001b[1;32m   2908\u001b[0m                 \u001b[0mindexer\u001b[0m \u001b[0;34m=\u001b[0m \u001b[0;34m[\u001b[0m\u001b[0mindexer\u001b[0m\u001b[0;34m]\u001b[0m\u001b[0;34m\u001b[0m\u001b[0;34m\u001b[0m\u001b[0m\n",
            "\u001b[0;32m/usr/local/lib/python3.6/dist-packages/pandas/core/indexes/base.py\u001b[0m in \u001b[0;36mget_loc\u001b[0;34m(self, key, method, tolerance)\u001b[0m\n\u001b[1;32m   2898\u001b[0m                 \u001b[0;32mreturn\u001b[0m \u001b[0mself\u001b[0m\u001b[0;34m.\u001b[0m\u001b[0m_engine\u001b[0m\u001b[0;34m.\u001b[0m\u001b[0mget_loc\u001b[0m\u001b[0;34m(\u001b[0m\u001b[0mcasted_key\u001b[0m\u001b[0;34m)\u001b[0m\u001b[0;34m\u001b[0m\u001b[0;34m\u001b[0m\u001b[0m\n\u001b[1;32m   2899\u001b[0m             \u001b[0;32mexcept\u001b[0m \u001b[0mKeyError\u001b[0m \u001b[0;32mas\u001b[0m \u001b[0merr\u001b[0m\u001b[0;34m:\u001b[0m\u001b[0;34m\u001b[0m\u001b[0;34m\u001b[0m\u001b[0m\n\u001b[0;32m-> 2900\u001b[0;31m                 \u001b[0;32mraise\u001b[0m \u001b[0mKeyError\u001b[0m\u001b[0;34m(\u001b[0m\u001b[0mkey\u001b[0m\u001b[0;34m)\u001b[0m \u001b[0;32mfrom\u001b[0m \u001b[0merr\u001b[0m\u001b[0;34m\u001b[0m\u001b[0;34m\u001b[0m\u001b[0m\n\u001b[0m\u001b[1;32m   2901\u001b[0m \u001b[0;34m\u001b[0m\u001b[0m\n\u001b[1;32m   2902\u001b[0m         \u001b[0;32mif\u001b[0m \u001b[0mtolerance\u001b[0m \u001b[0;32mis\u001b[0m \u001b[0;32mnot\u001b[0m \u001b[0;32mNone\u001b[0m\u001b[0;34m:\u001b[0m\u001b[0;34m\u001b[0m\u001b[0;34m\u001b[0m\u001b[0m\n",
            "\u001b[0;31mKeyError\u001b[0m: 'time_to_eruption'"
          ]
        }
      ]
    },
    {
      "cell_type": "code",
      "metadata": {
        "colab": {
          "base_uri": "https://localhost:8080/",
          "height": 805
        },
        "id": "JSymPF4pEZWI",
        "outputId": "7cfce349-be3b-42dd-89b8-8c4687d45be4"
      },
      "source": [
        "%%time\n",
        "\n",
        "n_fold = 2\n",
        "folds = KFold(n_splits=n_fold, shuffle=True, random_state=101)\n",
        "\n",
        "params = {\n",
        "    \"n_estimators\": 2000,\n",
        "    \"boosting_type\": \"gbdt\",\n",
        "    \"metric\": \"mae\",\n",
        "    \"num_leaves\": 66,\n",
        "    \"learning_rate\": 0.005,\n",
        "    \"feature_fraction\": 0.9,\n",
        "    \"bagging_fraction\": 0.8,\n",
        "    \"agging_freq\": 3,\n",
        "    \"max_bins\": 2048,\n",
        "    \"verbose\": 0,\n",
        "    \"random_state\": 101,\n",
        "    \"nthread\": -1,\n",
        "    \"device\": \"cpu\",\n",
        "}\n",
        "\n",
        "y_pred = np.zeros(t4p.shape[0])\n",
        "\n",
        "for n_fold, (trn_idx, val_idx) in enumerate(folds.split(t4m)):\n",
        "    print(f\"Fold {n_fold}:\")\n",
        "    trn_x, trn_y = t4m[feat].iloc[trn_idx], t4m[target].iloc[trn_idx]\n",
        "    val_x, val_y = t4m[feat].iloc[val_idx], t4m[target].iloc[val_idx]\n",
        "    \n",
        "    model = lgb.LGBMRegressor(**params)\n",
        "    \n",
        "    model.fit(trn_x, trn_y, \n",
        "            eval_set= [(trn_x, trn_y), (val_x, val_y)], \n",
        "            eval_metric=\"mae\", verbose=200, early_stopping_rounds=50\n",
        "           )\n",
        "\n",
        "    y_pred += model.predict(t4p[feat], num_iteration=model.best_iteration_) / folds.n_splits\n",
        "    \n",
        "\n",
        "plt.figure()\n",
        "plt.hist(y_pred, bins=50)\n",
        "plt.title('y pred distribution')\n",
        "plt.show()\n",
        "\n",
        "# my_submission = pd.DataFrame({\n",
        "#     'segment_id':t4p['segment_id'].values,\n",
        "#     'time_to_eruption':y_pred\n",
        "# })\n",
        "\n",
        "# my_submission.loc[my_submission[target] < 60000, target] = 60000 # in case of below zero predictions, correct them according to training data\n",
        "# my_submission.loc[my_submission[target] > 4.8e+07, target] = 4.8e+07 # correct preds according to train limits\n",
        "\n",
        "# my_submission.to_csv(f'submission_{ver}.csv', index=False)"
      ],
      "execution_count": null,
      "outputs": [
        {
          "output_type": "stream",
          "text": [
            "Fold 0:\n",
            "Training until validation scores don't improve for 50 rounds.\n",
            "[200]\ttraining's l1: 5.4294e+06\tvalid_1's l1: 6.57781e+06\n",
            "[400]\ttraining's l1: 2.80014e+06\tvalid_1's l1: 4.71789e+06\n",
            "[600]\ttraining's l1: 1.63451e+06\tvalid_1's l1: 4.05637e+06\n",
            "[800]\ttraining's l1: 1.05514e+06\tvalid_1's l1: 3.79842e+06\n",
            "[1000]\ttraining's l1: 726297\tvalid_1's l1: 3.69557e+06\n",
            "[1200]\ttraining's l1: 517345\tvalid_1's l1: 3.65401e+06\n",
            "[1400]\ttraining's l1: 375979\tvalid_1's l1: 3.63171e+06\n",
            "[1600]\ttraining's l1: 278064\tvalid_1's l1: 3.61869e+06\n",
            "[1800]\ttraining's l1: 209107\tvalid_1's l1: 3.60978e+06\n",
            "[2000]\ttraining's l1: 159382\tvalid_1's l1: 3.60454e+06\n",
            "Did not meet early stopping. Best iteration is:\n",
            "[2000]\ttraining's l1: 159382\tvalid_1's l1: 3.60454e+06\n",
            "Fold 1:\n",
            "Training until validation scores don't improve for 50 rounds.\n",
            "[200]\ttraining's l1: 5.46231e+06\tvalid_1's l1: 6.54017e+06\n",
            "[400]\ttraining's l1: 2.84874e+06\tvalid_1's l1: 4.73796e+06\n",
            "[600]\ttraining's l1: 1.66655e+06\tvalid_1's l1: 4.07909e+06\n",
            "[800]\ttraining's l1: 1.08346e+06\tvalid_1's l1: 3.80867e+06\n",
            "[1000]\ttraining's l1: 755218\tvalid_1's l1: 3.71325e+06\n",
            "[1200]\ttraining's l1: 543930\tvalid_1's l1: 3.67343e+06\n",
            "[1400]\ttraining's l1: 399673\tvalid_1's l1: 3.64889e+06\n",
            "[1600]\ttraining's l1: 298565\tvalid_1's l1: 3.63471e+06\n",
            "[1800]\ttraining's l1: 226899\tvalid_1's l1: 3.62486e+06\n",
            "[2000]\ttraining's l1: 175537\tvalid_1's l1: 3.61954e+06\n",
            "Did not meet early stopping. Best iteration is:\n",
            "[2000]\ttraining's l1: 175537\tvalid_1's l1: 3.61954e+06\n"
          ],
          "name": "stdout"
        },
        {
          "output_type": "display_data",
          "data": {
            "image/png": "[encoded data removed]",
            "text/plain": [
              "<Figure size 432x288 with 1 Axes>"
            ]
          },
          "metadata": {
            "tags": [],
            "needs_background": "light"
          }
        },
        {
          "output_type": "stream",
          "text": [
            "CPU times: user 14min 15s, sys: 2.91 s, total: 14min 18s\n",
            "Wall time: 7min 15s\n"
          ],
          "name": "stdout"
        }
      ]
    },
    {
      "cell_type": "code",
      "metadata": {
        "colab": {
          "base_uri": "https://localhost:8080/",
          "height": 337
        },
        "id": "K3Ik4gVyFvU6",
        "outputId": "5f4feb7f-8d72-43f8-d189-5a5d14fceabf"
      },
      "source": [
        "importances = model.feature_importances_\n",
        "\n",
        "target_results = pd.DataFrame(importances, columns=[target])\n",
        "target_results['feature'] = trn_x.columns\n",
        "\n",
        "t = target_results.sort_values(by = target)\n",
        "t = t.tail(15)\n",
        "\n",
        "plt.figure(figsize=(5, 5))\n",
        "plt.title('Feature Importance')\n",
        "plt.barh(t['feature'], t[target])\n",
        "plt.show()"
      ],
      "execution_count": null,
      "outputs": [
        {
          "output_type": "display_data",
          "data": {
            "image/png": "[encoded data removed]",
            "text/plain": [
              "<Figure size 360x360 with 1 Axes>"
            ]
          },
          "metadata": {
            "tags": [],
            "needs_background": "light"
          }
        }
      ]
    },
    {
      "cell_type": "code",
      "metadata": {
        "id": "kwkYR4XNIUvG",
        "colab": {
          "base_uri": "https://localhost:8080/"
        },
        "outputId": "776b3a48-7f2c-4f91-c547-09cf5308288a"
      },
      "source": [
        "t['feature'].values"
      ],
      "execution_count": null,
      "outputs": [
        {
          "output_type": "execute_result",
          "data": {
            "text/plain": [
              "array(['s06_r00000_5000_my', 's03_r05000_10000_my', 's10p_peak_x00',\n",
              "       's04p_peak_x00', 's02_r15000_20000_sy', 's05_r05000_10000_my',\n",
              "       's08p_peak_x00', 's06_r00000_5000_sy', 's02_r20000_25000_my',\n",
              "       's06p_peak_y00', 's08_r00000_5000_my', 's05_r10000_15000_sy',\n",
              "       's08p_peak_y02', 's06p_peak_x00', 'sum_feat'], dtype=object)"
            ]
          },
          "metadata": {
            "tags": []
          },
          "execution_count": 10
        }
      ]
    },
    {
      "cell_type": "code",
      "metadata": {
        "colab": {
          "base_uri": "https://localhost:8080/",
          "height": 979
        },
        "id": "SI41wt_UOlA6",
        "outputId": "145c7e2c-c1de-4e37-fcf4-b29848471eb9"
      },
      "source": [
        "clfeat = ['s06_r00000_5000_my', 's03_r05000_10000_my', 's10p_peak_x00',\n",
        "       's04p_peak_x00', 's02_r15000_20000_sy', 's05_r05000_10000_my',\n",
        "       's08p_peak_x00', 's06_r00000_5000_sy', 's02_r20000_25000_my',\n",
        "       's06p_peak_y00', 's08_r00000_5000_my', 's05_r10000_15000_sy',\n",
        "       's08p_peak_y02', 's06p_peak_x00', 'sum_feat']\n",
        "\n",
        "from sklearn import metrics\n",
        "from sklearn.cluster import KMeans\n",
        "\n",
        "# Initialize variables\n",
        "scores = []\n",
        "values = np.arange(2, 15)\n",
        "\n",
        "X = t4m[clfeat].values\n",
        "# Iterate through the defined range\n",
        "for num_clusters in values:\n",
        "    # Train the KMeans clustering model\n",
        "    kmeans = KMeans(init='k-means++', n_clusters=num_clusters, n_init=10)\n",
        "    kmeans.fit(X)\n",
        "    score = metrics.silhouette_score(X, kmeans.labels_, \n",
        "                metric='euclidean', sample_size=len(X))\n",
        "\n",
        "    print(\"\\nNumber of clusters =\", num_clusters)\n",
        "    print(\"Silhouette score =\", score)\n",
        "                    \n",
        "    scores.append(score)\n",
        "\n",
        "# Plot silhouette scores\n",
        "plt.figure()\n",
        "plt.bar(values, scores, width=0.7, color='black', align='center')\n",
        "plt.title('Silhouette score vs number of clusters')\n",
        "\n",
        "# Extract best score and optimal number of clusters\n",
        "num_clusters = np.argmax(scores) + values[0]\n",
        "print('\\nOptimal number of clusters =', num_clusters)\n",
        "\n",
        "plt.show()"
      ],
      "execution_count": null,
      "outputs": [
        {
          "output_type": "stream",
          "text": [
            "\n",
            "Number of clusters = 2\n",
            "Silhouette score = 0.7138461719439304\n",
            "\n",
            "Number of clusters = 3\n",
            "Silhouette score = 0.824006564020425\n",
            "\n",
            "Number of clusters = 4\n",
            "Silhouette score = 0.8361216066019819\n",
            "\n",
            "Number of clusters = 5\n",
            "Silhouette score = 0.8503628312783316\n",
            "\n",
            "Number of clusters = 6\n",
            "Silhouette score = 0.8584602384295535\n",
            "\n",
            "Number of clusters = 7\n",
            "Silhouette score = 0.8625610020022525\n",
            "\n",
            "Number of clusters = 8\n",
            "Silhouette score = 0.8548783852113961\n",
            "\n",
            "Number of clusters = 9\n",
            "Silhouette score = 0.8637027566739169\n",
            "\n",
            "Number of clusters = 10\n",
            "Silhouette score = 0.8704919156450482\n",
            "\n",
            "Number of clusters = 11\n",
            "Silhouette score = 0.7802298863386561\n",
            "\n",
            "Number of clusters = 12\n",
            "Silhouette score = 0.78095378797104\n",
            "\n",
            "Number of clusters = 13\n",
            "Silhouette score = 0.7244596148543749\n",
            "\n",
            "Number of clusters = 14\n",
            "Silhouette score = 0.7687220953424873\n",
            "\n",
            "Optimal number of clusters = 10\n"
          ],
          "name": "stdout"
        },
        {
          "output_type": "display_data",
          "data": {
            "image/png": "[encoded data removed]",
            "text/plain": [
              "<Figure size 432x288 with 1 Axes>"
            ]
          },
          "metadata": {
            "tags": [],
            "needs_background": "light"
          }
        }
      ]
    },
    {
      "cell_type": "code",
      "metadata": {
        "colab": {
          "base_uri": "https://localhost:8080/",
          "height": 1000
        },
        "id": "41Jff6qeP1Yd",
        "outputId": "942e68a1-5ee4-4734-e296-5e20844e8a51"
      },
      "source": [
        "%%time\n",
        "\n",
        "t4m, t4p, X, y, z, feat, target, qt = prepare_data(scale=True)\n",
        "\n",
        "ver = 36\n",
        "n_fold = 7\n",
        "folds = KFold(n_splits=n_fold, shuffle=True, random_state=101)\n",
        "\n",
        "params = {\n",
        "    \"n_estimators\": 5000,\n",
        "    \"boosting_type\": \"gbdt\",\n",
        "    \"metric\": \"mae\",\n",
        "    \"num_leaves\": 66,\n",
        "    \"learning_rate\": 0.005,\n",
        "    \"feature_fraction\": 0.9,\n",
        "    \"bagging_fraction\": 0.8,\n",
        "    \"agging_freq\": 3,\n",
        "    \"max_bins\": 2048,\n",
        "    \"verbose\": 0,\n",
        "    \"random_state\": 101,\n",
        "    \"nthread\": -1,\n",
        "    \"device\": \"cpu\",\n",
        "}\n",
        "\n",
        "y_pred = np.zeros(t4p.shape[0])\n",
        "\n",
        "for n_fold, (trn_idx, val_idx) in enumerate(folds.split(t4m)):\n",
        "    print(f\"Fold {n_fold}:\")\n",
        "    trn_x, trn_y = t4m[feat].iloc[trn_idx], t4m[target].iloc[trn_idx]\n",
        "    val_x, val_y = t4m[feat].iloc[val_idx], t4m[target].iloc[val_idx]\n",
        "    \n",
        "    model = lgb.LGBMRegressor(**params)\n",
        "    \n",
        "    model.fit(trn_x, trn_y, \n",
        "            eval_set= [(trn_x, trn_y), (val_x, val_y)], \n",
        "            eval_metric=\"mae\", verbose=200, early_stopping_rounds=50\n",
        "           )\n",
        "\n",
        "    y_pred += model.predict(t4p[feat], num_iteration=model.best_iteration_) / folds.n_splits\n",
        "    \n",
        "\n",
        "plt.figure()\n",
        "plt.hist(y_pred, bins=50)\n",
        "plt.title('y pred distribution')\n",
        "plt.show()\n",
        "\n",
        "my_submission = pd.DataFrame({\n",
        "    'segment_id':t4p['segment_id'].values,\n",
        "    'time_to_eruption':y_pred\n",
        "})\n",
        "\n",
        "# my_submission.loc[my_submission[target] < 60000, target] = 60000 # in case of below zero predictions, correct them according to training data\n",
        "# my_submission.loc[my_submission[target] > 4.8e+07, target] = 4.8e+07 # correct preds according to train limits\n",
        "\n",
        "my_submission[target] = abs(my_submission[target])\n",
        "\n",
        "my_submission.to_csv(f'submission_{ver}.csv', index=False)"
      ],
      "execution_count": 6,
      "outputs": [
        {
          "output_type": "display_data",
          "data": {
            "image/png": "[encoded data removed]",
            "text/plain": [
              "<Figure size 1080x360 with 3 Axes>"
            ]
          },
          "metadata": {
            "tags": [],
            "needs_background": "light"
          }
        },
        {
          "output_type": "stream",
          "text": [
            "Fold 0:\n",
            "Training until validation scores don't improve for 50 rounds.\n",
            "[200]\ttraining's l1: 5.56712e+06\tvalid_1's l1: 6.17039e+06\n",
            "[400]\ttraining's l1: 3.07501e+06\tvalid_1's l1: 4.27781e+06\n",
            "[600]\ttraining's l1: 1.97549e+06\tvalid_1's l1: 3.57188e+06\n",
            "[800]\ttraining's l1: 1.41699e+06\tvalid_1's l1: 3.29866e+06\n",
            "[1000]\ttraining's l1: 1.08298e+06\tvalid_1's l1: 3.18433e+06\n",
            "[1200]\ttraining's l1: 852653\tvalid_1's l1: 3.13276e+06\n",
            "[1400]\ttraining's l1: 680499\tvalid_1's l1: 3.10461e+06\n",
            "[1600]\ttraining's l1: 547656\tvalid_1's l1: 3.08773e+06\n",
            "[1800]\ttraining's l1: 442261\tvalid_1's l1: 3.07423e+06\n",
            "[2000]\ttraining's l1: 359533\tvalid_1's l1: 3.06563e+06\n",
            "[2200]\ttraining's l1: 293699\tvalid_1's l1: 3.05922e+06\n",
            "[2400]\ttraining's l1: 240525\tvalid_1's l1: 3.05328e+06\n",
            "[2600]\ttraining's l1: 197716\tvalid_1's l1: 3.04925e+06\n",
            "[2800]\ttraining's l1: 163196\tvalid_1's l1: 3.0453e+06\n",
            "[3000]\ttraining's l1: 135308\tvalid_1's l1: 3.04331e+06\n",
            "[3200]\ttraining's l1: 112140\tvalid_1's l1: 3.04184e+06\n",
            "[3400]\ttraining's l1: 93581.1\tvalid_1's l1: 3.04023e+06\n",
            "[3600]\ttraining's l1: 78400.3\tvalid_1's l1: 3.03893e+06\n",
            "[3800]\ttraining's l1: 66052.8\tvalid_1's l1: 3.03818e+06\n",
            "[4000]\ttraining's l1: 55844.6\tvalid_1's l1: 3.03748e+06\n",
            "[4200]\ttraining's l1: 47505.2\tvalid_1's l1: 3.03714e+06\n",
            "[4400]\ttraining's l1: 40607.5\tvalid_1's l1: 3.03678e+06\n",
            "[4600]\ttraining's l1: 34913.2\tvalid_1's l1: 3.03651e+06\n",
            "[4800]\ttraining's l1: 30183.8\tvalid_1's l1: 3.03635e+06\n",
            "[5000]\ttraining's l1: 26258.5\tvalid_1's l1: 3.03618e+06\n",
            "Did not meet early stopping. Best iteration is:\n",
            "[5000]\ttraining's l1: 26258.5\tvalid_1's l1: 3.03618e+06\n",
            "Fold 1:\n",
            "Training until validation scores don't improve for 50 rounds.\n",
            "[200]\ttraining's l1: 5.47993e+06\tvalid_1's l1: 6.60855e+06\n",
            "[400]\ttraining's l1: 3.0261e+06\tvalid_1's l1: 4.47617e+06\n",
            "[600]\ttraining's l1: 1.94844e+06\tvalid_1's l1: 3.63245e+06\n",
            "[800]\ttraining's l1: 1.39877e+06\tvalid_1's l1: 3.27612e+06\n",
            "[1000]\ttraining's l1: 1.0656e+06\tvalid_1's l1: 3.13624e+06\n",
            "[1200]\ttraining's l1: 839090\tvalid_1's l1: 3.07545e+06\n",
            "[1400]\ttraining's l1: 670152\tvalid_1's l1: 3.04541e+06\n",
            "[1600]\ttraining's l1: 540616\tvalid_1's l1: 3.02454e+06\n",
            "[1800]\ttraining's l1: 437784\tvalid_1's l1: 3.00989e+06\n",
            "[2000]\ttraining's l1: 356474\tvalid_1's l1: 3.00015e+06\n",
            "[2200]\ttraining's l1: 290607\tvalid_1's l1: 2.99298e+06\n",
            "[2400]\ttraining's l1: 237926\tvalid_1's l1: 2.98895e+06\n",
            "[2600]\ttraining's l1: 195423\tvalid_1's l1: 2.98688e+06\n",
            "[2800]\ttraining's l1: 161491\tvalid_1's l1: 2.98463e+06\n",
            "[3000]\ttraining's l1: 133975\tvalid_1's l1: 2.98348e+06\n",
            "[3200]\ttraining's l1: 111493\tvalid_1's l1: 2.98213e+06\n",
            "[3400]\ttraining's l1: 93358.5\tvalid_1's l1: 2.98113e+06\n",
            "[3600]\ttraining's l1: 78460\tvalid_1's l1: 2.98013e+06\n",
            "[3800]\ttraining's l1: 66154.3\tvalid_1's l1: 2.97913e+06\n",
            "[4000]\ttraining's l1: 56076.2\tvalid_1's l1: 2.97838e+06\n",
            "[4200]\ttraining's l1: 47793.6\tvalid_1's l1: 2.97775e+06\n",
            "[4400]\ttraining's l1: 40924.6\tvalid_1's l1: 2.97718e+06\n",
            "[4600]\ttraining's l1: 35278.3\tvalid_1's l1: 2.9769e+06\n",
            "[4800]\ttraining's l1: 30482.8\tvalid_1's l1: 2.97656e+06\n",
            "[5000]\ttraining's l1: 26445\tvalid_1's l1: 2.97627e+06\n",
            "Did not meet early stopping. Best iteration is:\n",
            "[5000]\ttraining's l1: 26445\tvalid_1's l1: 2.97627e+06\n",
            "Fold 2:\n",
            "Training until validation scores don't improve for 50 rounds.\n",
            "[200]\ttraining's l1: 5.52326e+06\tvalid_1's l1: 6.19047e+06\n",
            "[400]\ttraining's l1: 3.07095e+06\tvalid_1's l1: 4.27148e+06\n",
            "[600]\ttraining's l1: 1.96402e+06\tvalid_1's l1: 3.51939e+06\n",
            "[800]\ttraining's l1: 1.40913e+06\tvalid_1's l1: 3.23627e+06\n",
            "[1000]\ttraining's l1: 1.07167e+06\tvalid_1's l1: 3.10155e+06\n",
            "[1200]\ttraining's l1: 844262\tvalid_1's l1: 3.0451e+06\n",
            "[1400]\ttraining's l1: 673706\tvalid_1's l1: 3.01515e+06\n",
            "[1600]\ttraining's l1: 543083\tvalid_1's l1: 2.99424e+06\n",
            "[1800]\ttraining's l1: 440476\tvalid_1's l1: 2.98059e+06\n",
            "[2000]\ttraining's l1: 358528\tvalid_1's l1: 2.97032e+06\n",
            "[2200]\ttraining's l1: 292869\tvalid_1's l1: 2.96305e+06\n",
            "[2400]\ttraining's l1: 239789\tvalid_1's l1: 2.95726e+06\n",
            "[2600]\ttraining's l1: 197257\tvalid_1's l1: 2.95284e+06\n",
            "[2800]\ttraining's l1: 162791\tvalid_1's l1: 2.9499e+06\n",
            "[3000]\ttraining's l1: 134857\tvalid_1's l1: 2.94756e+06\n",
            "[3200]\ttraining's l1: 111934\tvalid_1's l1: 2.94607e+06\n",
            "[3400]\ttraining's l1: 93008.9\tvalid_1's l1: 2.94496e+06\n",
            "[3600]\ttraining's l1: 77602.5\tvalid_1's l1: 2.94392e+06\n",
            "[3800]\ttraining's l1: 64950.8\tvalid_1's l1: 2.94311e+06\n",
            "[4000]\ttraining's l1: 54554.1\tvalid_1's l1: 2.94246e+06\n",
            "[4200]\ttraining's l1: 46037.9\tvalid_1's l1: 2.94191e+06\n",
            "[4400]\ttraining's l1: 39001\tvalid_1's l1: 2.9416e+06\n",
            "[4600]\ttraining's l1: 33155\tvalid_1's l1: 2.94128e+06\n",
            "[4800]\ttraining's l1: 28372.5\tvalid_1's l1: 2.941e+06\n",
            "[5000]\ttraining's l1: 24360\tvalid_1's l1: 2.94073e+06\n",
            "Did not meet early stopping. Best iteration is:\n",
            "[5000]\ttraining's l1: 24360\tvalid_1's l1: 2.94073e+06\n",
            "Fold 3:\n",
            "Training until validation scores don't improve for 50 rounds.\n",
            "[200]\ttraining's l1: 5.48336e+06\tvalid_1's l1: 6.31733e+06\n",
            "[400]\ttraining's l1: 3.06199e+06\tvalid_1's l1: 4.25726e+06\n",
            "[600]\ttraining's l1: 1.99595e+06\tvalid_1's l1: 3.5397e+06\n",
            "[800]\ttraining's l1: 1.43119e+06\tvalid_1's l1: 3.23269e+06\n",
            "[1000]\ttraining's l1: 1.09437e+06\tvalid_1's l1: 3.10645e+06\n",
            "[1200]\ttraining's l1: 860940\tvalid_1's l1: 3.05306e+06\n",
            "[1400]\ttraining's l1: 687582\tvalid_1's l1: 3.02432e+06\n",
            "[1600]\ttraining's l1: 553367\tvalid_1's l1: 3.00472e+06\n",
            "[1800]\ttraining's l1: 447089\tvalid_1's l1: 2.98998e+06\n",
            "[2000]\ttraining's l1: 362736\tvalid_1's l1: 2.97878e+06\n",
            "[2200]\ttraining's l1: 295429\tvalid_1's l1: 2.97171e+06\n",
            "[2400]\ttraining's l1: 241810\tvalid_1's l1: 2.9665e+06\n",
            "[2600]\ttraining's l1: 198692\tvalid_1's l1: 2.96338e+06\n",
            "[2800]\ttraining's l1: 163740\tvalid_1's l1: 2.95994e+06\n",
            "[3000]\ttraining's l1: 135572\tvalid_1's l1: 2.95707e+06\n",
            "[3200]\ttraining's l1: 112597\tvalid_1's l1: 2.95528e+06\n",
            "[3400]\ttraining's l1: 93761.3\tvalid_1's l1: 2.95379e+06\n",
            "[3600]\ttraining's l1: 78370.8\tvalid_1's l1: 2.95256e+06\n",
            "[3800]\ttraining's l1: 65707.2\tvalid_1's l1: 2.95158e+06\n",
            "[4000]\ttraining's l1: 55138.6\tvalid_1's l1: 2.9508e+06\n",
            "[4200]\ttraining's l1: 46473.7\tvalid_1's l1: 2.95029e+06\n",
            "[4400]\ttraining's l1: 39325.3\tvalid_1's l1: 2.94995e+06\n",
            "[4600]\ttraining's l1: 33385.1\tvalid_1's l1: 2.94955e+06\n",
            "[4800]\ttraining's l1: 28408\tvalid_1's l1: 2.94915e+06\n",
            "[5000]\ttraining's l1: 24268.2\tvalid_1's l1: 2.94896e+06\n",
            "Did not meet early stopping. Best iteration is:\n",
            "[5000]\ttraining's l1: 24268.2\tvalid_1's l1: 2.94896e+06\n",
            "Fold 4:\n",
            "Training until validation scores don't improve for 50 rounds.\n",
            "[200]\ttraining's l1: 5.56133e+06\tvalid_1's l1: 6.12957e+06\n",
            "[400]\ttraining's l1: 3.08074e+06\tvalid_1's l1: 4.29474e+06\n",
            "[600]\ttraining's l1: 1.97327e+06\tvalid_1's l1: 3.55607e+06\n",
            "[800]\ttraining's l1: 1.4153e+06\tvalid_1's l1: 3.25833e+06\n",
            "[1000]\ttraining's l1: 1.08225e+06\tvalid_1's l1: 3.14321e+06\n",
            "[1200]\ttraining's l1: 855738\tvalid_1's l1: 3.09183e+06\n",
            "[1400]\ttraining's l1: 683284\tvalid_1's l1: 3.06235e+06\n",
            "[1600]\ttraining's l1: 548860\tvalid_1's l1: 3.03931e+06\n",
            "[1800]\ttraining's l1: 444150\tvalid_1's l1: 3.02287e+06\n",
            "[2000]\ttraining's l1: 361884\tvalid_1's l1: 3.01354e+06\n",
            "[2200]\ttraining's l1: 296306\tvalid_1's l1: 3.00515e+06\n",
            "[2400]\ttraining's l1: 243543\tvalid_1's l1: 2.99804e+06\n",
            "[2600]\ttraining's l1: 200721\tvalid_1's l1: 2.99329e+06\n",
            "[2800]\ttraining's l1: 166257\tvalid_1's l1: 2.98993e+06\n",
            "[3000]\ttraining's l1: 138059\tvalid_1's l1: 2.98736e+06\n",
            "[3200]\ttraining's l1: 115368\tvalid_1's l1: 2.9853e+06\n",
            "[3400]\ttraining's l1: 96793.4\tvalid_1's l1: 2.98371e+06\n",
            "[3600]\ttraining's l1: 81639.6\tvalid_1's l1: 2.98265e+06\n",
            "[3800]\ttraining's l1: 69285.8\tvalid_1's l1: 2.98171e+06\n",
            "[4000]\ttraining's l1: 58963.6\tvalid_1's l1: 2.98082e+06\n",
            "[4200]\ttraining's l1: 50463.6\tvalid_1's l1: 2.98037e+06\n",
            "[4400]\ttraining's l1: 43445\tvalid_1's l1: 2.97993e+06\n",
            "[4600]\ttraining's l1: 37670.5\tvalid_1's l1: 2.97957e+06\n",
            "[4800]\ttraining's l1: 32780.6\tvalid_1's l1: 2.97931e+06\n",
            "[5000]\ttraining's l1: 28673.5\tvalid_1's l1: 2.97913e+06\n",
            "Did not meet early stopping. Best iteration is:\n",
            "[5000]\ttraining's l1: 28673.5\tvalid_1's l1: 2.97913e+06\n",
            "Fold 5:\n",
            "Training until validation scores don't improve for 50 rounds.\n",
            "[200]\ttraining's l1: 5.50354e+06\tvalid_1's l1: 6.34711e+06\n",
            "[400]\ttraining's l1: 3.03035e+06\tvalid_1's l1: 4.36431e+06\n",
            "[600]\ttraining's l1: 1.94888e+06\tvalid_1's l1: 3.60079e+06\n",
            "[800]\ttraining's l1: 1.39226e+06\tvalid_1's l1: 3.27151e+06\n",
            "[1000]\ttraining's l1: 1.05787e+06\tvalid_1's l1: 3.12767e+06\n",
            "[1200]\ttraining's l1: 832246\tvalid_1's l1: 3.07485e+06\n",
            "[1400]\ttraining's l1: 664899\tvalid_1's l1: 3.04451e+06\n",
            "[1600]\ttraining's l1: 534314\tvalid_1's l1: 3.02544e+06\n",
            "[1800]\ttraining's l1: 432816\tvalid_1's l1: 3.00906e+06\n",
            "[2000]\ttraining's l1: 352526\tvalid_1's l1: 2.99798e+06\n",
            "[2200]\ttraining's l1: 288828\tvalid_1's l1: 2.98968e+06\n",
            "[2400]\ttraining's l1: 236891\tvalid_1's l1: 2.98244e+06\n",
            "[2600]\ttraining's l1: 195855\tvalid_1's l1: 2.97746e+06\n",
            "[2800]\ttraining's l1: 162454\tvalid_1's l1: 2.97399e+06\n",
            "[3000]\ttraining's l1: 135264\tvalid_1's l1: 2.97161e+06\n",
            "[3200]\ttraining's l1: 113089\tvalid_1's l1: 2.96929e+06\n",
            "[3400]\ttraining's l1: 94958.1\tvalid_1's l1: 2.96784e+06\n",
            "[3600]\ttraining's l1: 80153.9\tvalid_1's l1: 2.96675e+06\n",
            "[3800]\ttraining's l1: 67920.8\tvalid_1's l1: 2.96575e+06\n",
            "[4000]\ttraining's l1: 57902.8\tvalid_1's l1: 2.96515e+06\n",
            "[4200]\ttraining's l1: 49620.8\tvalid_1's l1: 2.96456e+06\n",
            "[4400]\ttraining's l1: 42767.4\tvalid_1's l1: 2.96414e+06\n",
            "[4600]\ttraining's l1: 37036.9\tvalid_1's l1: 2.96369e+06\n",
            "[4800]\ttraining's l1: 32227.1\tvalid_1's l1: 2.96329e+06\n",
            "[5000]\ttraining's l1: 28193.5\tvalid_1's l1: 2.963e+06\n",
            "Did not meet early stopping. Best iteration is:\n",
            "[5000]\ttraining's l1: 28193.5\tvalid_1's l1: 2.963e+06\n",
            "Fold 6:\n",
            "Training until validation scores don't improve for 50 rounds.\n",
            "[200]\ttraining's l1: 5.5294e+06\tvalid_1's l1: 5.99757e+06\n",
            "[400]\ttraining's l1: 3.07388e+06\tvalid_1's l1: 4.18273e+06\n",
            "[600]\ttraining's l1: 1.96089e+06\tvalid_1's l1: 3.46097e+06\n",
            "[800]\ttraining's l1: 1.41013e+06\tvalid_1's l1: 3.17242e+06\n",
            "[1000]\ttraining's l1: 1.08018e+06\tvalid_1's l1: 3.05197e+06\n",
            "[1200]\ttraining's l1: 849930\tvalid_1's l1: 2.99621e+06\n",
            "[1400]\ttraining's l1: 678282\tvalid_1's l1: 2.96493e+06\n",
            "[1600]\ttraining's l1: 546042\tvalid_1's l1: 2.94515e+06\n",
            "[1800]\ttraining's l1: 441342\tvalid_1's l1: 2.93148e+06\n",
            "[2000]\ttraining's l1: 358946\tvalid_1's l1: 2.92085e+06\n",
            "[2200]\ttraining's l1: 293683\tvalid_1's l1: 2.9134e+06\n",
            "[2400]\ttraining's l1: 241306\tvalid_1's l1: 2.9086e+06\n",
            "[2600]\ttraining's l1: 199058\tvalid_1's l1: 2.90513e+06\n",
            "[2800]\ttraining's l1: 165368\tvalid_1's l1: 2.9024e+06\n",
            "[3000]\ttraining's l1: 137896\tvalid_1's l1: 2.90024e+06\n",
            "[3200]\ttraining's l1: 115281\tvalid_1's l1: 2.89862e+06\n",
            "[3400]\ttraining's l1: 96686.2\tvalid_1's l1: 2.89713e+06\n",
            "[3600]\ttraining's l1: 81338.4\tvalid_1's l1: 2.89579e+06\n",
            "[3800]\ttraining's l1: 68550.2\tvalid_1's l1: 2.89464e+06\n",
            "[4000]\ttraining's l1: 58034.4\tvalid_1's l1: 2.89385e+06\n",
            "[4200]\ttraining's l1: 49409.6\tvalid_1's l1: 2.89336e+06\n",
            "[4400]\ttraining's l1: 42258\tvalid_1's l1: 2.89311e+06\n",
            "Early stopping, best iteration is:\n",
            "[4423]\ttraining's l1: 41527.4\tvalid_1's l1: 2.89308e+06\n"
          ],
          "name": "stdout"
        },
        {
          "output_type": "display_data",
          "data": {
            "image/png": "[encoded data removed]",
            "text/plain": [
              "<Figure size 432x288 with 1 Axes>"
            ]
          },
          "metadata": {
            "tags": [],
            "needs_background": "light"
          }
        },
        {
          "output_type": "stream",
          "text": [
            "CPU times: user 2h 37min 15s, sys: 18.4 s, total: 2h 37min 33s\n",
            "Wall time: 1h 19min 45s\n"
          ],
          "name": "stdout"
        }
      ]
    },
    {
      "cell_type": "code",
      "metadata": {
        "id": "RupB7H9tSeH2"
      },
      "source": [
        "my_submission.to_csv(f'/content/drive/MyDrive/2 - рабочее/32 - PMI/random/submission_{ver}.csv', index=False)"
      ],
      "execution_count": 7,
      "outputs": []
    },
    {
      "cell_type": "code",
      "metadata": {
        "id": "BqtuW0s8gi6t",
        "colab": {
          "base_uri": "https://localhost:8080/",
          "height": 337
        },
        "outputId": "c6255aed-189d-4058-b837-da5126a98642"
      },
      "source": [
        "importances = model.feature_importances_\n",
        "\n",
        "target_results = pd.DataFrame(importances, columns=[target])\n",
        "target_results['feature'] = trn_x.columns\n",
        "\n",
        "t = target_results.sort_values(by = target)\n",
        "t = t.tail(15)\n",
        "\n",
        "plt.figure(figsize=(5, 5))\n",
        "plt.title('Feature Importance')\n",
        "plt.barh(t['feature'], t[target])\n",
        "plt.show()"
      ],
      "execution_count": 8,
      "outputs": [
        {
          "output_type": "display_data",
          "data": {
            "image/png": "[encoded data removed]",
            "text/plain": [
              "<Figure size 360x360 with 1 Axes>"
            ]
          },
          "metadata": {
            "tags": [],
            "needs_background": "light"
          }
        }
      ]
    },
    {
      "cell_type": "code",
      "metadata": {
        "id": "4Qad3K8j7yFM"
      },
      "source": [
        ""
      ],
      "execution_count": null,
      "outputs": []
    }
  ]
}