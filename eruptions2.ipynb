{
  "nbformat": 4,
  "nbformat_minor": 0,
  "metadata": {
    "colab": {
      "name": "eruptions2.ipynb",
      "provenance": [],
      "toc_visible": true,
      "mount_file_id": "https://github.com/RvsL/kaggle/blob/main/eruptions2.ipynb",
      "authorship_tag": "ABX9TyMm68oPNqQDV0KL/GeezHxU",
      "include_colab_link": true
    },
    "kernelspec": {
      "name": "python3",
      "display_name": "Python 3"
    },
    "accelerator": "GPU"
  },
  "cells": [
    {
      "cell_type": "markdown",
      "metadata": {
        "id": "view-in-github",
        "colab_type": "text"
      },
      "source": [
        "<a href=\"https://colab.research.google.com/github/RvsL/kaggle/blob/main/eruptions2.ipynb\" target=\"_parent\"><img src=\"https://colab.research.google.com/assets/colab-badge.svg\" alt=\"Open In Colab\"/></a>"
      ]
    },
    {
      "cell_type": "code",
      "metadata": {
        "id": "1A9H4LFeDNrR"
      },
      "source": [
        ""
      ],
      "execution_count": null,
      "outputs": []
    },
    {
      "cell_type": "markdown",
      "metadata": {
        "id": "N45rkNZ8DVOx"
      },
      "source": [
        "# Новый раздел"
      ]
    },
    {
      "cell_type": "code",
      "metadata": {
        "id": "3k7ohMcuD41H"
      },
      "source": [
        "import pandas as pd\n",
        "import numpy as np\n",
        "import zipfile as zf\n",
        "import os\n",
        "import datetime as dt\n",
        "from tqdm import tqdm, tqdm_notebook\n",
        "import re\n",
        "import string\n",
        "import warnings\n",
        "import matplotlib.pyplot as plt\n",
        "from sklearn.preprocessing import StandardScaler\n",
        "\n",
        "plt.style.use('ggplot')\n",
        "\n",
        "\n",
        "def get_df_name(df):\n",
        "    name =[x for x in globals() if globals()[x] is df][0]\n",
        "    return name\n",
        "def tstats(t, doplot = False):\n",
        "    print('#'*20, get_df_name(t), t.shape)\n",
        "    for _,i in enumerate(t):\n",
        "        nulls = t[i].isna().sum()\n",
        "        if nulls > 0:\n",
        "            print(i,'=', t[i].nunique(), ',NULLS = ', nulls, ',% of nulls = ',round(100*nulls/t.shape[0]))\n",
        "        else:\n",
        "            print(i,'=', t[i].nunique())\n",
        "    if doplot:\n",
        "        print()\n",
        "        print(t.sample(10))\n",
        "        print()\n",
        "        \n",
        "warnings.filterwarnings('ignore')\n",
        "from sklearn import metrics\n",
        "from sklearn.cluster import KMeans\n"
      ],
      "execution_count": 1,
      "outputs": []
    },
    {
      "cell_type": "code",
      "metadata": {
        "colab": {
          "base_uri": "https://localhost:8080/"
        },
        "id": "BNTXTNcAEJ_2",
        "outputId": "fae72cc4-d8b4-453b-e1ff-f8e4c2b696c6"
      },
      "source": [
        "!pip install catboost"
      ],
      "execution_count": 3,
      "outputs": [
        {
          "output_type": "stream",
          "text": [
            "Collecting catboost\n",
            "\u001b[?25l  Downloading https://files.pythonhosted.org/packages/20/37/bc4e0ddc30c07a96482abf1de7ed1ca54e59bba2026a33bca6d2ef286e5b/catboost-0.24.4-cp36-none-manylinux1_x86_64.whl (65.7MB)\n",
            "\u001b[K     |████████████████████████████████| 65.8MB 73kB/s \n",
            "\u001b[?25hRequirement already satisfied: matplotlib in /usr/local/lib/python3.6/dist-packages (from catboost) (3.2.2)\n",
            "Requirement already satisfied: graphviz in /usr/local/lib/python3.6/dist-packages (from catboost) (0.10.1)\n",
            "Requirement already satisfied: scipy in /usr/local/lib/python3.6/dist-packages (from catboost) (1.4.1)\n",
            "Requirement already satisfied: pandas>=0.24.0 in /usr/local/lib/python3.6/dist-packages (from catboost) (1.1.5)\n",
            "Requirement already satisfied: numpy>=1.16.0 in /usr/local/lib/python3.6/dist-packages (from catboost) (1.19.4)\n",
            "Requirement already satisfied: six in /usr/local/lib/python3.6/dist-packages (from catboost) (1.15.0)\n",
            "Requirement already satisfied: plotly in /usr/local/lib/python3.6/dist-packages (from catboost) (4.4.1)\n",
            "Requirement already satisfied: pyparsing!=2.0.4,!=2.1.2,!=2.1.6,>=2.0.1 in /usr/local/lib/python3.6/dist-packages (from matplotlib->catboost) (2.4.7)\n",
            "Requirement already satisfied: cycler>=0.10 in /usr/local/lib/python3.6/dist-packages (from matplotlib->catboost) (0.10.0)\n",
            "Requirement already satisfied: kiwisolver>=1.0.1 in /usr/local/lib/python3.6/dist-packages (from matplotlib->catboost) (1.3.1)\n",
            "Requirement already satisfied: python-dateutil>=2.1 in /usr/local/lib/python3.6/dist-packages (from matplotlib->catboost) (2.8.1)\n",
            "Requirement already satisfied: pytz>=2017.2 in /usr/local/lib/python3.6/dist-packages (from pandas>=0.24.0->catboost) (2018.9)\n",
            "Requirement already satisfied: retrying>=1.3.3 in /usr/local/lib/python3.6/dist-packages (from plotly->catboost) (1.3.3)\n",
            "Installing collected packages: catboost\n",
            "Successfully installed catboost-0.24.4\n"
          ],
          "name": "stdout"
        }
      ]
    },
    {
      "cell_type": "code",
      "metadata": {
        "id": "9FLXsQM-D5V0"
      },
      "source": [
        "import lightgbm as lgb\n",
        "import pandas as pd\n",
        "from sklearn.metrics import mean_squared_error, mean_absolute_error\n",
        "from sklearn.metrics import f1_score,recall_score,precision_score,roc_auc_score\n",
        "from sklearn.model_selection import GridSearchCV, train_test_split\n",
        "from sklearn.ensemble import RandomForestRegressor\n",
        "from catboost import CatBoostRegressor\n",
        "from sklearn.model_selection import KFold\n",
        "import gc\n",
        "\n",
        "def plot_history(history, metricname):\n",
        "    recall = history.history[metricname]\n",
        "    val_recall = history.history['val_' + metricname]\n",
        "    loss = history.history['loss']\n",
        "    val_loss = history.history['val_loss']\n",
        "    x = range(1, len(recall) + 1)\n",
        "\n",
        "    plt.figure(figsize=(12, 5))\n",
        "    plt.subplot(1, 2, 1)\n",
        "    plt.plot(x, recall, 'b', label='Training')\n",
        "    plt.plot(x, val_recall, 'r', label='Validation')\n",
        "    plt.title('Training and validation')\n",
        "    plt.legend()\n",
        "    plt.subplot(1, 2, 2)\n",
        "    plt.plot(x, loss, 'b', label='Training loss')\n",
        "    plt.plot(x, val_loss, 'r', label='Validation loss')\n",
        "    plt.title('Training and validation loss')\n",
        "    plt.legend()\n",
        "    plt.show()\n",
        "    \n",
        "from keras import regularizers as kreg\n",
        "from keras.layers import Dense\n",
        "from keras.models import Sequential"
      ],
      "execution_count": 4,
      "outputs": []
    },
    {
      "cell_type": "code",
      "metadata": {
        "colab": {
          "base_uri": "https://localhost:8080/",
          "height": 350
        },
        "id": "btkOHfnAEHTm",
        "outputId": "c5156a37-14c4-4812-e2a4-9b8c0d8d7c13"
      },
      "source": [
        "def prepare_data(scale=False):\n",
        "    \n",
        "    t4m = pd.read_csv('/content/drive/MyDrive/2 - рабочее/32 - PMI/random/t4m_10.csv')\n",
        "    t4p = pd.read_csv('/content/drive/MyDrive/2 - рабочее/32 - PMI/random/t4p_10.csv')\n",
        "    features = t4m.columns[1:-1]\n",
        "    target = 'time_to_eruption'\n",
        "\n",
        "    df = t4m[t4m.columns[1:]].copy()\n",
        "    t = df.corr()[target].reset_index()\n",
        "    t[target] = abs(t[target])\n",
        "    t.sort_values(by=target, ascending = False)\n",
        "\n",
        "    t = t.loc[(t[target] > 0.05)&(t[target] < 1)].sort_values(by=target, ascending=False).reset_index()\n",
        "\n",
        "    good_features = t['index'].values\n",
        "\n",
        "    scaler = StandardScaler()\n",
        "\n",
        "    # for train\n",
        "    t = pd.DataFrame(scaler.fit_transform(t4m[good_features]), columns = good_features)\n",
        "\n",
        "    t['sum_feat'] = t[good_features].sum(axis=1)\n",
        "    t['mul_feat'] = t[good_features].prod(axis=1)\n",
        "    t['s_m_feat'] = t['sum_feat'] * t['mul_feat']\n",
        "\n",
        "    t4m['sum_feat'] = t['sum_feat'].values\n",
        "    t4m['mul_feat'] = t['mul_feat'].values\n",
        "    t4m['s_m_feat'] = t['s_m_feat'].values\n",
        "\n",
        "\n",
        "    # for test\n",
        "    t = pd.DataFrame(scaler.fit_transform(t4p[good_features]), columns = good_features)\n",
        "\n",
        "    t['sum_feat'] = t[good_features].sum(axis=1)\n",
        "    t['mul_feat'] = t[good_features].prod(axis=1)\n",
        "    t['s_m_feat'] = t['sum_feat'] * t['mul_feat']\n",
        "\n",
        "    t4p['sum_feat'] = t['sum_feat'].values\n",
        "    t4p['mul_feat'] = t['mul_feat'].values\n",
        "    t4p['s_m_feat'] = t['s_m_feat'].values\n",
        "\n",
        "\n",
        "    clfeat = ['s06_r00000_5000_my', 's03_r05000_10000_my', 's10p_peak_x00',\n",
        "          's04p_peak_x00', 's02_r15000_20000_sy', 's05_r05000_10000_my',\n",
        "          's08p_peak_x00', 's06_r00000_5000_sy', 's02_r20000_25000_my',\n",
        "          's06p_peak_y00', 's08_r00000_5000_my', 's05_r10000_15000_sy',\n",
        "          's08p_peak_y02', 's06p_peak_x00', 'sum_feat']    \n",
        "    \n",
        "    kmeans = KMeans(init='k-means++', n_clusters=10, n_init=10)\n",
        "    kmeans.fit(t4m[clfeat])\n",
        "    t4m['cluster'] = kmeans.labels_\n",
        "    t4p['cluster'] = kmeans.predict(t4p[clfeat])\n",
        "\n",
        "    feat = list(features)\n",
        "    feat.append('sum_feat')\n",
        "    feat.append('mul_feat')\n",
        "    feat.append('s_m_feat')\n",
        "    feat.append('cluster')\n",
        "    \n",
        "    if scale:\n",
        "      scaler = StandardScaler()\n",
        "      t4m[feat] = scaler.fit_transform(t4m[feat])\n",
        "      t4p[feat] = scaler.transform(t4p[feat])\n",
        "\n",
        "    X, y = t4m[feat], t4m[target]\n",
        "\n",
        "    data = y.values.reshape(-1, 1)\n",
        "\n",
        "    from sklearn.preprocessing import QuantileTransformer\n",
        "\n",
        "    rng = np.random.RandomState(304)\n",
        "    qt = QuantileTransformer(n_quantiles=1000, output_distribution='normal',\n",
        "                             random_state=rng)\n",
        "\n",
        "    z = qt.fit_transform(data)\n",
        "    z_back = qt.inverse_transform(z)\n",
        "\n",
        "    plt.figure(figsize=(15,5))\n",
        "    plt.subplot(131)\n",
        "    plt.hist(data)\n",
        "    plt.title('y')\n",
        "\n",
        "    plt.subplot(132)\n",
        "    plt.hist(z, bins = 50)\n",
        "    plt.title('z')\n",
        "\n",
        "    plt.subplot(133)\n",
        "    plt.hist(z_back, bins = 50)\n",
        "    plt.title('inverse')\n",
        "\n",
        "    plt.show()\n",
        "    \n",
        "    return t4m, t4p, X, y, z, feat, target, qt\n",
        "\n",
        "t4m, t4p, X, y, z, feat, target, qt = prepare_data()\n",
        "\n",
        "def de_qt(val):\n",
        "    return qt.inverse_transform(val.reshape(-1, 1)).ravel()\n"
      ],
      "execution_count": 19,
      "outputs": [
        {
          "output_type": "display_data",
          "data": {
            "image/png": "[encoded data removed]",
            "text/plain": [
              "<Figure size 1080x360 with 3 Axes>"
            ]
          },
          "metadata": {
            "tags": [],
            "needs_background": "light"
          }
        }
      ]
    },
    {
      "cell_type": "code",
      "metadata": {
        "colab": {
          "base_uri": "https://localhost:8080/",
          "height": 805
        },
        "id": "JSymPF4pEZWI",
        "outputId": "7cfce349-be3b-42dd-89b8-8c4687d45be4"
      },
      "source": [
        "%%time\n",
        "\n",
        "n_fold = 2\n",
        "folds = KFold(n_splits=n_fold, shuffle=True, random_state=101)\n",
        "\n",
        "params = {\n",
        "    \"n_estimators\": 2000,\n",
        "    \"boosting_type\": \"gbdt\",\n",
        "    \"metric\": \"mae\",\n",
        "    \"num_leaves\": 66,\n",
        "    \"learning_rate\": 0.005,\n",
        "    \"feature_fraction\": 0.9,\n",
        "    \"bagging_fraction\": 0.8,\n",
        "    \"agging_freq\": 3,\n",
        "    \"max_bins\": 2048,\n",
        "    \"verbose\": 0,\n",
        "    \"random_state\": 101,\n",
        "    \"nthread\": -1,\n",
        "    \"device\": \"cpu\",\n",
        "}\n",
        "\n",
        "y_pred = np.zeros(t4p.shape[0])\n",
        "\n",
        "for n_fold, (trn_idx, val_idx) in enumerate(folds.split(t4m)):\n",
        "    print(f\"Fold {n_fold}:\")\n",
        "    trn_x, trn_y = t4m[feat].iloc[trn_idx], t4m[target].iloc[trn_idx]\n",
        "    val_x, val_y = t4m[feat].iloc[val_idx], t4m[target].iloc[val_idx]\n",
        "    \n",
        "    model = lgb.LGBMRegressor(**params)\n",
        "    \n",
        "    model.fit(trn_x, trn_y, \n",
        "            eval_set= [(trn_x, trn_y), (val_x, val_y)], \n",
        "            eval_metric=\"mae\", verbose=200, early_stopping_rounds=50\n",
        "           )\n",
        "\n",
        "    y_pred += model.predict(t4p[feat], num_iteration=model.best_iteration_) / folds.n_splits\n",
        "    \n",
        "\n",
        "plt.figure()\n",
        "plt.hist(y_pred, bins=50)\n",
        "plt.title('y pred distribution')\n",
        "plt.show()\n",
        "\n",
        "# my_submission = pd.DataFrame({\n",
        "#     'segment_id':t4p['segment_id'].values,\n",
        "#     'time_to_eruption':y_pred\n",
        "# })\n",
        "\n",
        "# my_submission.loc[my_submission[target] < 60000, target] = 60000 # in case of below zero predictions, correct them according to training data\n",
        "# my_submission.loc[my_submission[target] > 4.8e+07, target] = 4.8e+07 # correct preds according to train limits\n",
        "\n",
        "# my_submission.to_csv(f'submission_{ver}.csv', index=False)"
      ],
      "execution_count": 6,
      "outputs": [
        {
          "output_type": "stream",
          "text": [
            "Fold 0:\n",
            "Training until validation scores don't improve for 50 rounds.\n",
            "[200]\ttraining's l1: 5.4294e+06\tvalid_1's l1: 6.57781e+06\n",
            "[400]\ttraining's l1: 2.80014e+06\tvalid_1's l1: 4.71789e+06\n",
            "[600]\ttraining's l1: 1.63451e+06\tvalid_1's l1: 4.05637e+06\n",
            "[800]\ttraining's l1: 1.05514e+06\tvalid_1's l1: 3.79842e+06\n",
            "[1000]\ttraining's l1: 726297\tvalid_1's l1: 3.69557e+06\n",
            "[1200]\ttraining's l1: 517345\tvalid_1's l1: 3.65401e+06\n",
            "[1400]\ttraining's l1: 375979\tvalid_1's l1: 3.63171e+06\n",
            "[1600]\ttraining's l1: 278064\tvalid_1's l1: 3.61869e+06\n",
            "[1800]\ttraining's l1: 209107\tvalid_1's l1: 3.60978e+06\n",
            "[2000]\ttraining's l1: 159382\tvalid_1's l1: 3.60454e+06\n",
            "Did not meet early stopping. Best iteration is:\n",
            "[2000]\ttraining's l1: 159382\tvalid_1's l1: 3.60454e+06\n",
            "Fold 1:\n",
            "Training until validation scores don't improve for 50 rounds.\n",
            "[200]\ttraining's l1: 5.46231e+06\tvalid_1's l1: 6.54017e+06\n",
            "[400]\ttraining's l1: 2.84874e+06\tvalid_1's l1: 4.73796e+06\n",
            "[600]\ttraining's l1: 1.66655e+06\tvalid_1's l1: 4.07909e+06\n",
            "[800]\ttraining's l1: 1.08346e+06\tvalid_1's l1: 3.80867e+06\n",
            "[1000]\ttraining's l1: 755218\tvalid_1's l1: 3.71325e+06\n",
            "[1200]\ttraining's l1: 543930\tvalid_1's l1: 3.67343e+06\n",
            "[1400]\ttraining's l1: 399673\tvalid_1's l1: 3.64889e+06\n",
            "[1600]\ttraining's l1: 298565\tvalid_1's l1: 3.63471e+06\n",
            "[1800]\ttraining's l1: 226899\tvalid_1's l1: 3.62486e+06\n",
            "[2000]\ttraining's l1: 175537\tvalid_1's l1: 3.61954e+06\n",
            "Did not meet early stopping. Best iteration is:\n",
            "[2000]\ttraining's l1: 175537\tvalid_1's l1: 3.61954e+06\n"
          ],
          "name": "stdout"
        },
        {
          "output_type": "display_data",
          "data": {
            "image/png": "[encoded data removed]",
            "text/plain": [
              "<Figure size 432x288 with 1 Axes>"
            ]
          },
          "metadata": {
            "tags": [],
            "needs_background": "light"
          }
        },
        {
          "output_type": "stream",
          "text": [
            "CPU times: user 14min 15s, sys: 2.91 s, total: 14min 18s\n",
            "Wall time: 7min 15s\n"
          ],
          "name": "stdout"
        }
      ]
    },
    {
      "cell_type": "code",
      "metadata": {
        "colab": {
          "base_uri": "https://localhost:8080/",
          "height": 337
        },
        "id": "K3Ik4gVyFvU6",
        "outputId": "5f4feb7f-8d72-43f8-d189-5a5d14fceabf"
      },
      "source": [
        "importances = model.feature_importances_\n",
        "\n",
        "target_results = pd.DataFrame(importances, columns=[target])\n",
        "target_results['feature'] = trn_x.columns\n",
        "\n",
        "t = target_results.sort_values(by = target)\n",
        "t = t.tail(15)\n",
        "\n",
        "plt.figure(figsize=(5, 5))\n",
        "plt.title('Feature Importance')\n",
        "plt.barh(t['feature'], t[target])\n",
        "plt.show()"
      ],
      "execution_count": 8,
      "outputs": [
        {
          "output_type": "display_data",
          "data": {
            "image/png": "[encoded data removed]",
            "text/plain": [
              "<Figure size 360x360 with 1 Axes>"
            ]
          },
          "metadata": {
            "tags": [],
            "needs_background": "light"
          }
        }
      ]
    },
    {
      "cell_type": "code",
      "metadata": {
        "id": "kwkYR4XNIUvG",
        "outputId": "776b3a48-7f2c-4f91-c547-09cf5308288a",
        "colab": {
          "base_uri": "https://localhost:8080/"
        }
      },
      "source": [
        "t['feature'].values"
      ],
      "execution_count": 10,
      "outputs": [
        {
          "output_type": "execute_result",
          "data": {
            "text/plain": [
              "array(['s06_r00000_5000_my', 's03_r05000_10000_my', 's10p_peak_x00',\n",
              "       's04p_peak_x00', 's02_r15000_20000_sy', 's05_r05000_10000_my',\n",
              "       's08p_peak_x00', 's06_r00000_5000_sy', 's02_r20000_25000_my',\n",
              "       's06p_peak_y00', 's08_r00000_5000_my', 's05_r10000_15000_sy',\n",
              "       's08p_peak_y02', 's06p_peak_x00', 'sum_feat'], dtype=object)"
            ]
          },
          "metadata": {
            "tags": []
          },
          "execution_count": 10
        }
      ]
    },
    {
      "cell_type": "code",
      "metadata": {
        "id": "SI41wt_UOlA6",
        "outputId": "145c7e2c-c1de-4e37-fcf4-b29848471eb9",
        "colab": {
          "base_uri": "https://localhost:8080/",
          "height": 979
        }
      },
      "source": [
        "clfeat = ['s06_r00000_5000_my', 's03_r05000_10000_my', 's10p_peak_x00',\n",
        "       's04p_peak_x00', 's02_r15000_20000_sy', 's05_r05000_10000_my',\n",
        "       's08p_peak_x00', 's06_r00000_5000_sy', 's02_r20000_25000_my',\n",
        "       's06p_peak_y00', 's08_r00000_5000_my', 's05_r10000_15000_sy',\n",
        "       's08p_peak_y02', 's06p_peak_x00', 'sum_feat']\n",
        "\n",
        "from sklearn import metrics\n",
        "from sklearn.cluster import KMeans\n",
        "\n",
        "# Initialize variables\n",
        "scores = []\n",
        "values = np.arange(2, 15)\n",
        "\n",
        "X = t4m[clfeat].values\n",
        "# Iterate through the defined range\n",
        "for num_clusters in values:\n",
        "    # Train the KMeans clustering model\n",
        "    kmeans = KMeans(init='k-means++', n_clusters=num_clusters, n_init=10)\n",
        "    kmeans.fit(X)\n",
        "    score = metrics.silhouette_score(X, kmeans.labels_, \n",
        "                metric='euclidean', sample_size=len(X))\n",
        "\n",
        "    print(\"\\nNumber of clusters =\", num_clusters)\n",
        "    print(\"Silhouette score =\", score)\n",
        "                    \n",
        "    scores.append(score)\n",
        "\n",
        "# Plot silhouette scores\n",
        "plt.figure()\n",
        "plt.bar(values, scores, width=0.7, color='black', align='center')\n",
        "plt.title('Silhouette score vs number of clusters')\n",
        "\n",
        "# Extract best score and optimal number of clusters\n",
        "num_clusters = np.argmax(scores) + values[0]\n",
        "print('\\nOptimal number of clusters =', num_clusters)\n",
        "\n",
        "plt.show()"
      ],
      "execution_count": 14,
      "outputs": [
        {
          "output_type": "stream",
          "text": [
            "\n",
            "Number of clusters = 2\n",
            "Silhouette score = 0.7138461719439304\n",
            "\n",
            "Number of clusters = 3\n",
            "Silhouette score = 0.824006564020425\n",
            "\n",
            "Number of clusters = 4\n",
            "Silhouette score = 0.8361216066019819\n",
            "\n",
            "Number of clusters = 5\n",
            "Silhouette score = 0.8503628312783316\n",
            "\n",
            "Number of clusters = 6\n",
            "Silhouette score = 0.8584602384295535\n",
            "\n",
            "Number of clusters = 7\n",
            "Silhouette score = 0.8625610020022525\n",
            "\n",
            "Number of clusters = 8\n",
            "Silhouette score = 0.8548783852113961\n",
            "\n",
            "Number of clusters = 9\n",
            "Silhouette score = 0.8637027566739169\n",
            "\n",
            "Number of clusters = 10\n",
            "Silhouette score = 0.8704919156450482\n",
            "\n",
            "Number of clusters = 11\n",
            "Silhouette score = 0.7802298863386561\n",
            "\n",
            "Number of clusters = 12\n",
            "Silhouette score = 0.78095378797104\n",
            "\n",
            "Number of clusters = 13\n",
            "Silhouette score = 0.7244596148543749\n",
            "\n",
            "Number of clusters = 14\n",
            "Silhouette score = 0.7687220953424873\n",
            "\n",
            "Optimal number of clusters = 10\n"
          ],
          "name": "stdout"
        },
        {
          "output_type": "display_data",
          "data": {
            "image/png": "[encoded data removed]",
            "text/plain": [
              "<Figure size 432x288 with 1 Axes>"
            ]
          },
          "metadata": {
            "tags": [],
            "needs_background": "light"
          }
        }
      ]
    },
    {
      "cell_type": "code",
      "metadata": {
        "id": "41Jff6qeP1Yd",
        "outputId": "9c1a0552-6f53-4f1b-c144-e8882bbe3ba0",
        "colab": {
          "base_uri": "https://localhost:8080/",
          "height": 1000
        }
      },
      "source": [
        "%%time\n",
        "\n",
        "t4m, t4p, X, y, z, feat, target, qt = prepare_data(scale=True)\n",
        "\n",
        "ver = 36\n",
        "n_fold = 7\n",
        "folds = KFold(n_splits=n_fold, shuffle=True, random_state=101)\n",
        "\n",
        "params = {\n",
        "    \"n_estimators\": 5000,\n",
        "    \"boosting_type\": \"gbdt\",\n",
        "    \"metric\": \"mae\",\n",
        "    \"num_leaves\": 66,\n",
        "    \"learning_rate\": 0.005,\n",
        "    \"feature_fraction\": 0.9,\n",
        "    \"bagging_fraction\": 0.8,\n",
        "    \"agging_freq\": 3,\n",
        "    \"max_bins\": 2048,\n",
        "    \"verbose\": 0,\n",
        "    \"random_state\": 101,\n",
        "    \"nthread\": -1,\n",
        "    \"device\": \"cpu\",\n",
        "}\n",
        "\n",
        "y_pred = np.zeros(t4p.shape[0])\n",
        "\n",
        "for n_fold, (trn_idx, val_idx) in enumerate(folds.split(t4m)):\n",
        "    print(f\"Fold {n_fold}:\")\n",
        "    trn_x, trn_y = t4m[feat].iloc[trn_idx], t4m[target].iloc[trn_idx]\n",
        "    val_x, val_y = t4m[feat].iloc[val_idx], t4m[target].iloc[val_idx]\n",
        "    \n",
        "    model = lgb.LGBMRegressor(**params)\n",
        "    \n",
        "    model.fit(trn_x, trn_y, \n",
        "            eval_set= [(trn_x, trn_y), (val_x, val_y)], \n",
        "            eval_metric=\"mae\", verbose=200, early_stopping_rounds=50\n",
        "           )\n",
        "\n",
        "    y_pred += model.predict(t4p[feat], num_iteration=model.best_iteration_) / folds.n_splits\n",
        "    \n",
        "\n",
        "plt.figure()\n",
        "plt.hist(y_pred, bins=50)\n",
        "plt.title('y pred distribution')\n",
        "plt.show()\n",
        "\n",
        "my_submission = pd.DataFrame({\n",
        "    'segment_id':t4p['segment_id'].values,\n",
        "    'time_to_eruption':y_pred\n",
        "})\n",
        "\n",
        "# my_submission.loc[my_submission[target] < 60000, target] = 60000 # in case of below zero predictions, correct them according to training data\n",
        "# my_submission.loc[my_submission[target] > 4.8e+07, target] = 4.8e+07 # correct preds according to train limits\n",
        "\n",
        "my_submission[target] = abs(my_submission[target])\n",
        "\n",
        "my_submission.to_csv(f'submission_{ver}.csv', index=False)"
      ],
      "execution_count": null,
      "outputs": [
        {
          "output_type": "display_data",
          "data": {
            "image/png": "[encoded data removed]",
            "text/plain": [
              "<Figure size 1080x360 with 3 Axes>"
            ]
          },
          "metadata": {
            "tags": [],
            "needs_background": "light"
          }
        },
        {
          "output_type": "stream",
          "text": [
            "Fold 0:\n",
            "Training until validation scores don't improve for 50 rounds.\n",
            "[200]\ttraining's l1: 5.5677e+06\tvalid_1's l1: 6.16994e+06\n",
            "[400]\ttraining's l1: 3.07151e+06\tvalid_1's l1: 4.27505e+06\n",
            "[600]\ttraining's l1: 1.97305e+06\tvalid_1's l1: 3.5806e+06\n",
            "[800]\ttraining's l1: 1.41777e+06\tvalid_1's l1: 3.31607e+06\n",
            "[1000]\ttraining's l1: 1.08108e+06\tvalid_1's l1: 3.1944e+06\n",
            "[1200]\ttraining's l1: 850666\tvalid_1's l1: 3.13976e+06\n",
            "[1400]\ttraining's l1: 677756\tvalid_1's l1: 3.1129e+06\n",
            "[1600]\ttraining's l1: 545894\tvalid_1's l1: 3.09779e+06\n",
            "[1800]\ttraining's l1: 441427\tvalid_1's l1: 3.08448e+06\n",
            "[2000]\ttraining's l1: 358349\tvalid_1's l1: 3.07543e+06\n",
            "[2200]\ttraining's l1: 292065\tvalid_1's l1: 3.069e+06\n",
            "[2400]\ttraining's l1: 238697\tvalid_1's l1: 3.06353e+06\n",
            "[2600]\ttraining's l1: 195918\tvalid_1's l1: 3.05985e+06\n",
            "[2800]\ttraining's l1: 161628\tvalid_1's l1: 3.05703e+06\n",
            "[3000]\ttraining's l1: 133803\tvalid_1's l1: 3.05486e+06\n",
            "[3200]\ttraining's l1: 111287\tvalid_1's l1: 3.05306e+06\n",
            "[3400]\ttraining's l1: 92691\tvalid_1's l1: 3.0516e+06\n",
            "[3600]\ttraining's l1: 77626.6\tvalid_1's l1: 3.05039e+06\n",
            "[3800]\ttraining's l1: 65389\tvalid_1's l1: 3.04958e+06\n",
            "[4000]\ttraining's l1: 55297.6\tvalid_1's l1: 3.04895e+06\n",
            "[4200]\ttraining's l1: 47039.6\tvalid_1's l1: 3.04844e+06\n",
            "[4400]\ttraining's l1: 40231.8\tvalid_1's l1: 3.04811e+06\n",
            "[4600]\ttraining's l1: 34638.8\tvalid_1's l1: 3.04782e+06\n",
            "[4800]\ttraining's l1: 30031.6\tvalid_1's l1: 3.0477e+06\n",
            "[5000]\ttraining's l1: 26157.9\tvalid_1's l1: 3.04754e+06\n",
            "Did not meet early stopping. Best iteration is:\n",
            "[5000]\ttraining's l1: 26157.9\tvalid_1's l1: 3.04754e+06\n",
            "Fold 1:\n",
            "Training until validation scores don't improve for 50 rounds.\n",
            "[200]\ttraining's l1: 5.4806e+06\tvalid_1's l1: 6.6051e+06\n",
            "[400]\ttraining's l1: 3.02773e+06\tvalid_1's l1: 4.48266e+06\n",
            "[600]\ttraining's l1: 1.94403e+06\tvalid_1's l1: 3.62664e+06\n",
            "[800]\ttraining's l1: 1.39027e+06\tvalid_1's l1: 3.26533e+06\n",
            "[1000]\ttraining's l1: 1.06317e+06\tvalid_1's l1: 3.12441e+06\n",
            "[1200]\ttraining's l1: 837663\tvalid_1's l1: 3.06452e+06\n",
            "[1400]\ttraining's l1: 669837\tvalid_1's l1: 3.03146e+06\n",
            "[1600]\ttraining's l1: 540989\tvalid_1's l1: 3.01543e+06\n",
            "[1800]\ttraining's l1: 437769\tvalid_1's l1: 3.00363e+06\n",
            "[2000]\ttraining's l1: 356224\tvalid_1's l1: 2.99512e+06\n",
            "[2200]\ttraining's l1: 290611\tvalid_1's l1: 2.9892e+06\n"
          ],
          "name": "stdout"
        }
      ]
    },
    {
      "cell_type": "code",
      "metadata": {
        "id": "RupB7H9tSeH2"
      },
      "source": [
        ""
      ],
      "execution_count": null,
      "outputs": []
    }
  ]
}