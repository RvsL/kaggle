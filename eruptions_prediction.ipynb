{
  "nbformat": 4,
  "nbformat_minor": 0,
  "metadata": {
    "colab": {
      "name": "eruptions_prediction.ipynb",
      "provenance": [],
      "collapsed_sections": [],
      "mount_file_id": "144yRr8LtTzKq9XufVWnet0QmQ1yMmEOg",
      "authorship_tag": "ABX9TyOBiDYrao7lkArn6TYFux7M",
      "include_colab_link": true
    },
    "kernelspec": {
      "name": "python3",
      "display_name": "Python 3"
    }
  },
  "cells": [
    {
      "cell_type": "markdown",
      "metadata": {
        "id": "view-in-github",
        "colab_type": "text"
      },
      "source": [
        "<a href=\"https://colab.research.google.com/github/RvsL/kaggle/blob/main/eruptions_prediction.ipynb\" target=\"_parent\"><img src=\"https://colab.research.google.com/assets/colab-badge.svg\" alt=\"Open In Colab\"/></a>"
      ]
    },
    {
      "cell_type": "markdown",
      "metadata": {
        "id": "Lx3uYo48gOY8"
      },
      "source": [
        "# Competition is about prediction of volcano eruption time\n",
        "https://www.kaggle.com/c/predict-volcanic-eruptions-ingv-oe\n",
        "\n",
        "  I've already created a model on LGBM with feature engeneering, it worked out 145 place in competition with MAE score around 5,2e6. First place is scored around 3e6, so i need to check different approach. Maybe First place guy knows much about the subject, and i don't. \n",
        "\n",
        "  This notebook aims to load data as a pictures and use deep learning to read volcano features right from pictures."
      ]
    },
    {
      "cell_type": "code",
      "metadata": {
        "id": "twA-JrHNgAsm"
      },
      "source": [
        "import pandas as pd\n",
        "import numpy as np\n",
        "\n",
        "from sklearn.metrics import mean_squared_error, mean_absolute_error\n",
        "from sklearn.metrics import f1_score,recall_score,precision_score,roc_auc_score\n",
        "from sklearn.model_selection import GridSearchCV, train_test_split\n",
        "\n",
        "\n",
        "from sklearn.preprocessing import StandardScaler\n",
        "\n",
        "from keras import regularizers as kreg\n",
        "from keras.layers import Dense\n",
        "from keras.models import Sequential\n",
        "\n",
        "import os\n",
        "from tqdm import tqdm_notebook\n",
        "import scipy.fftpack\n",
        "from scipy.signal import chirp, find_peaks, peak_widths, peak_prominences\n",
        "\n",
        "import matplotlib.pyplot as plt\n"
      ],
      "execution_count": 1,
      "outputs": []
    },
    {
      "cell_type": "markdown",
      "metadata": {
        "id": "O77pPPW_oxTa"
      },
      "source": [
        ""
      ]
    },
    {
      "cell_type": "code",
      "metadata": {
        "id": "T6HU_J5BgbYw"
      },
      "source": [
        "import pickle\n",
        "\n",
        "hdir = '/content/drive/MyDrive/2 - рабочее/32 - PMI/random/eruptions/'\n",
        "\n",
        "for var in ['X_val', 'y_val', 'X_train', 'y_train']:\n",
        "    \n",
        "    with open(f'{hdir}{var}.pickle', 'rb') as handle:\n",
        "        globals()[var] = pickle.load(handle)\n"
      ],
      "execution_count": null,
      "outputs": []
    }
  ]
}