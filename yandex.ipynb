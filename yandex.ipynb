{
  "nbformat": 4,
  "nbformat_minor": 0,
  "metadata": {
    "kernelspec": {
      "display_name": "Python 3",
      "language": "python",
      "name": "python3"
    },
    "language_info": {
      "codemirror_mode": {
        "name": "ipython",
        "version": 3
      },
      "file_extension": ".py",
      "mimetype": "text/x-python",
      "name": "python",
      "nbconvert_exporter": "python",
      "pygments_lexer": "ipython3",
      "version": "3.7.7"
    },
    "colab": {
      "name": "yandex.ipynb",
      "provenance": [],
      "include_colab_link": true
    }
  },
  "cells": [
    {
      "cell_type": "markdown",
      "metadata": {
        "id": "view-in-github",
        "colab_type": "text"
      },
      "source": [
        "<a href=\"https://colab.research.google.com/github/RvsL/kaggle/blob/main/yandex.ipynb\" target=\"_parent\"><img src=\"https://colab.research.google.com/assets/colab-badge.svg\" alt=\"Open In Colab\"/></a>"
      ]
    },
    {
      "cell_type": "code",
      "metadata": {
        "id": "nkDu4GftiHts"
      },
      "source": [
        ""
      ],
      "execution_count": null,
      "outputs": []
    },
    {
      "cell_type": "code",
      "metadata": {
        "colab": {
          "base_uri": "https://localhost:8080/"
        },
        "id": "2jMIHaTmiHtu",
        "outputId": "3806c644-e713-43f7-a9ab-dfbf8ca38509"
      },
      "source": [
        "'''Даны две строки строчных латинских символов: строка J и строка S. \n",
        "Символы, входящие в строку J, — «драгоценности», входящие в строку S \n",
        "— «камни». Нужно определить, какое количество символов из S одновременно \n",
        "являются «драгоценностями». Проще говоря, нужно проверить, \n",
        "какое количество символов из S входит в J.\n",
        "Формат ввода\n",
        "На двух первых строках входного файла содержатся две строки строчных латинских символов: строка J и строка S. Длина каждой не превосходит 100 символов.\n",
        "Формат вывода\n",
        "Выходной файл должен содержать единственное число — количество камней, являющихся драгоценностями.\n",
        "'''\n",
        "\n",
        "j = input()\n",
        "s = input()\n",
        "print(len([i for i in s if i in j]))"
      ],
      "execution_count": 1,
      "outputs": [
        {
          "output_type": "stream",
          "text": [
            "ab\n",
            "aabbccd\n",
            "4\n"
          ],
          "name": "stdout"
        }
      ]
    },
    {
      "cell_type": "code",
      "metadata": {
        "id": "7TfjwrVOiHtv",
        "outputId": "19a6fa0a-69fb-455c-c742-ee889b34f31c"
      },
      "source": [
        "'''\n",
        "Требуется найти в бинарном векторе самую длинную последовательность единиц и вывести её длину.\n",
        "\n",
        "Желательно получить решение, работающее за линейное время и при этом проходящее по входному массиву только один раз.\n",
        "\n",
        "Формат ввода\n",
        "Первая строка входного файла содержит одно число n, n ≤ 10000. Каждая из следующих n строк содержит ровно одно число — очередной элемент массива.\n",
        "\n",
        "Формат вывода\n",
        "Выходной файл должен содержать единственное число — длину самой длинной последовательности единиц во входном массиве.\n",
        "\n",
        "'''\n",
        "\n",
        "n = int(input())\n",
        "res = []\n",
        "l = 0\n",
        "flag = 0\n",
        "for i in range(n):\n",
        "    foo = int(input())\n",
        "    if foo == 1:\n",
        "        l += 1\n",
        "        if flag == 0: flag = 1\n",
        "    else: \n",
        "        flag = 0\n",
        "        res.append(l)\n",
        "        l = 0\n",
        "            \n",
        "            \n",
        "print(max(res))            "
      ],
      "execution_count": null,
      "outputs": [
        {
          "output_type": "stream",
          "text": [
            "5\n",
            "1\n",
            "0\n",
            "1\n",
            "1\n",
            "0\n",
            "2\n"
          ],
          "name": "stdout"
        }
      ]
    },
    {
      "cell_type": "code",
      "metadata": {
        "id": "Ruknehm2iHtw",
        "outputId": "1bfe169e-81fb-4eb8-9146-c65697bb6a23"
      },
      "source": [
        "n = int(input())\n",
        "\n",
        "res = 0\n",
        "cnt = 0\n",
        "for i in range(n):\n",
        "    curnum = int(input())\n",
        "    if curnum == 1: cnt += 1\n",
        "    if (i == n-1 or curnum == 0) and cnt > res:\n",
        "        res = cnt\n",
        "        cnt = 0\n",
        "print(res)"
      ],
      "execution_count": null,
      "outputs": [
        {
          "output_type": "stream",
          "text": [
            "5\n",
            "0\n",
            "1\n",
            "1\n",
            "0\n",
            "1\n",
            "2\n"
          ],
          "name": "stdout"
        }
      ]
    },
    {
      "cell_type": "code",
      "metadata": {
        "id": "xY90qIAEiHtx",
        "outputId": "b1f44d62-9131-42f7-bf3b-995337bad72b"
      },
      "source": [
        "'''\n",
        "Дан упорядоченный по неубыванию массив целых 32-разрядных чисел. Требуется удалить из него все повторения.\n",
        "\n",
        "Желательно получить решение, которое не считывает входной файл целиком в память, т.е., использует лишь константный объем памяти в процессе работы.\n",
        "\n",
        "Формат ввода\n",
        "Первая строка входного файла содержит единственное число n, n ≤ 1000000.\n",
        "\n",
        "На следующих n строк расположены числа — элементы массива, по одному на строку. Числа отсортированы по неубыванию.\n",
        "\n",
        "Формат вывода\n",
        "Выходной файл должен содержать следующие в порядке возрастания уникальные элементы входного массива.\n",
        "\n",
        "'''\n",
        "\n",
        "n = int(input())\n",
        "def read_batch(k,lastn = None, s=''):\n",
        "#     if k > 0:\n",
        "#     foo = []\n",
        "    for i in range(k):\n",
        "        bar = input()\n",
        "        if lastn != bar:\n",
        "            s += bar + '|'\n",
        "            lastn = bar\n",
        "    return s\n",
        "res = ''\n",
        "bsize = 2\n",
        "lastnum = None\n",
        "while n > 0:\n",
        "    size = min(n, bsize)\n",
        "    res += read_batch(size, lastnum)\n",
        "    lastnum = res[-2]\n",
        "    n -= size\n",
        "res = res[:-1].split('|')\n",
        "print('answer')\n",
        "for i in sorted(res):\n",
        "    print(i)"
      ],
      "execution_count": null,
      "outputs": [
        {
          "output_type": "stream",
          "text": [
            "5\n",
            "2\n",
            "2\n",
            "2\n",
            "8\n",
            "8\n",
            "answer\n",
            "2\n",
            "8\n"
          ],
          "name": "stdout"
        }
      ]
    },
    {
      "cell_type": "code",
      "metadata": {
        "id": "lURp0IIKiHtx",
        "outputId": "e60ba653-a330-454e-f6cb-521a29466974"
      },
      "source": [
        "n = int(input())\n",
        "def read_batch(k,lastn = None, bsize=2, s=''):\n",
        "    size = min(k, bsize)\n",
        "#     if k > 0:\n",
        "    size = min(k, bsize)\n",
        "    for i in range(size):\n",
        "        bar = input()\n",
        "#         print('s =', s)\n",
        "        if lastn != bar:\n",
        "            print('out - >',bar)\n",
        "            s += bar + '|'\n",
        "            lastn = bar\n",
        "#         print('s =', s)\n",
        "    if k-size > 0:\n",
        "        read_batch(k-size,lastn, bsize, s)\n",
        "#     print('return', s)\n",
        "#     if k-size == 0: return s\n",
        "\n",
        "#     print('return', s)\n",
        "#     return s\n",
        "read_batch(n,None, 2)    \n",
        "# res = read_batch(n,None, 2)\n",
        "# res = res[:-1].split('|')\n",
        "# for i in res:\n",
        "#     print(i)\n",
        "\n",
        "# res"
      ],
      "execution_count": null,
      "outputs": [
        {
          "output_type": "stream",
          "text": [
            "5\n",
            "2\n",
            "out - > 2\n",
            "2\n",
            "2\n",
            "8\n",
            "out - > 8\n",
            "8\n"
          ],
          "name": "stdout"
        }
      ]
    },
    {
      "cell_type": "code",
      "metadata": {
        "id": "GUygiFDNiHty",
        "outputId": "78f58439-5c1b-44ed-96ff-b9f1ce80eb07"
      },
      "source": [
        "n = int(input())\n",
        "res = ''\n",
        "lastnum = None\n",
        "for i in range(n):\n",
        "    curnum = input()\n",
        "    if curnum != lastnum:\n",
        "        res += curnum + ' '\n",
        "        lastnum = curnum\n",
        "print()\n",
        "for i in res[:-1].split():\n",
        "    print(i)\n",
        "    "
      ],
      "execution_count": null,
      "outputs": [
        {
          "output_type": "stream",
          "text": [
            "5\n",
            "-10\n",
            "-10\n",
            "-5\n",
            "-5\n",
            "15\n",
            "\n",
            "-10\n",
            "-5\n",
            "15\n"
          ],
          "name": "stdout"
        }
      ]
    },
    {
      "cell_type": "code",
      "metadata": {
        "id": "YQAIOHzSiHty",
        "outputId": "91d5073d-1130-48ef-bb1d-2d7802592c35"
      },
      "source": [
        "'''\n",
        "Дано целое число n. Требуется вывести все правильные скобочные последовательности длины 2 ⋅ n, упорядоченные лексикографически (см. https://ru.wikipedia.org/wiki/Лексикографический_порядок).\n",
        "\n",
        "В задаче используются только круглые скобки.\n",
        "\n",
        "Желательно получить решение, которое работает за время, пропорциональное общему количеству правильных скобочных последовательностей в ответе, и при этом использует объём памяти, пропорциональный n.\n",
        "\n",
        "Формат ввода\n",
        "Единственная строка входного файла содержит целое число n, 0 ≤ n ≤ 11\n",
        "\n",
        "Формат вывода\n",
        "Выходной файл содержит сгенерированные правильные скобочные последовательности, упорядоченные лексикографически.'''\n",
        "\n",
        "a, b = '(', ')'\n",
        "n = int(input())\n",
        "def brackets(tot, left=0, right=0, s=''):\n",
        "    if left == tot and right == tot:\n",
        "        print(s)\n",
        "    if left < tot: brackets(tot, left+1, right, s + a)    \n",
        "    if left > right: brackets(tot, left, right+1, s + b)\n",
        "        \n",
        "brackets(n)"
      ],
      "execution_count": null,
      "outputs": [
        {
          "output_type": "stream",
          "text": [
            "3\n",
            "((()))\n",
            "(()())\n",
            "(())()\n",
            "()(())\n",
            "()()()\n"
          ],
          "name": "stdout"
        }
      ]
    },
    {
      "cell_type": "code",
      "metadata": {
        "id": "tSDaaOyfiHtz",
        "outputId": "4ba0da89-320c-4cd1-eab3-d0a8ff85345d"
      },
      "source": [
        "'''\n",
        "Даны две строки, состоящие из строчных латинских букв. Требуется определить, являются ли эти строки анаграммами, т. е. отличаются ли они только порядком следования символов.\n",
        "\n",
        "Формат ввода\n",
        "Входной файл содержит две строки строчных латинских символов, каждая не длиннее 100 000 символов. Строки разделяются символом перевода строки.\n",
        "\n",
        "Формат вывода\n",
        "Выходной файл должен содержать единицу, если строки являются анаграммами, и ноль в противном случае.\n",
        "'''\n",
        "\n",
        "foo = sorted([i for i in input()])\n",
        "bar = sorted([i for i in input()])\n",
        "\n",
        "l1 = len(foo)\n",
        "l2 = len(bar)\n",
        "if l1 != l2: ans = 0\n",
        "else:\n",
        "    ans = 1\n",
        "    for i in range(l1):\n",
        "        if foo[i] != bar[i]:\n",
        "            ans = 0\n",
        "            break\n",
        "            \n",
        "print(ans)\n"
      ],
      "execution_count": null,
      "outputs": [
        {
          "output_type": "stream",
          "text": [
            "uiq\n",
            "uiqo\n",
            "0\n"
          ],
          "name": "stdout"
        }
      ]
    },
    {
      "cell_type": "code",
      "metadata": {
        "id": "RHA85g_ViHtz",
        "outputId": "e83da76c-8bff-4eb3-b51e-bb5318fc9313"
      },
      "source": [
        "'''\n",
        "Не секрет, что некоторые программисты очень любят путешествовать. Хорошо всем известный программист Петя тоже очень любит путешествовать, посещать музеи и осматривать достопримечательности других городов.\n",
        "Для перемещений между из города в город он предпочитает использовать машину. При этом он заправляется только на станциях в городах, \n",
        "но не на станциях по пути. Поэтому он очень аккуратно выбирает маршруты, чтобы машина не заглохла в дороге. \n",
        "А ещё Петя очень важный член команды, поэтому он не может себе позволить путешествовать слишком долго. \n",
        "Он решил написать программу, которая поможет ему с выбором очередного путешествия. Но так как сейчас у него слишком много других задач, он попросил вас помочь ему.\n",
        "Расстояние между двумя городами считается как сумма модулей разности по каждой из координат. Дороги есть между всеми парами городов.\n",
        "\n",
        "Формат ввода\n",
        "В первой строке входных данных записано количество городов \n",
        "n(2≤n≤1000). В следующих n\n",
        " строках даны два целых числа: координаты каждого города, не превосходящие по модулю миллиарда. Все города пронумерованы числами от 1 до \n",
        "n в порядке записи во входных данных.\n",
        "В следующей строке записано целое положительное число \n",
        "k, не превосходящее двух миллиардов, — максимальное расстояние между городами, которое Петя может преодолеть без дозаправки машины.\n",
        "В последней строке записаны два различных числа — номер города, откуда едет Петя, и номер города, куда он едет.\n",
        "\n",
        "Формат вывода\n",
        "Если существуют пути, удовлетворяющие описанным выше условиям, то выведите минимальное количество дорог, которое нужно проехать, чтобы попасть из начальной точки маршрута в конечную. Если пути не существует, выведите -1.\n",
        "\n",
        "7\n",
        "0 0\n",
        "0 2\n",
        "2 2\n",
        "0 -2\n",
        "2 -2\n",
        "2 -1\n",
        "2 1\n",
        "2\n",
        "1 3\n",
        "'''\n",
        "\n",
        "n = int(input())\n",
        "coords = []\n",
        "for i in range(n):\n",
        "    a,b = input().split()\n",
        "    coords.append([float(a), float(b)])\n",
        "    \n",
        "k = float(input())\n",
        "a,b = input().split()\n",
        "start = int(a)\n",
        "finish = int(b)\n",
        "coords"
      ],
      "execution_count": null,
      "outputs": [
        {
          "output_type": "stream",
          "text": [
            "7\n",
            "0 0\n",
            "0 2\n",
            "2 2\n",
            "0 -2\n",
            "2 -2\n",
            "2 -1\n",
            "2 1\n",
            "2\n",
            "1 3\n"
          ],
          "name": "stdout"
        },
        {
          "output_type": "execute_result",
          "data": {
            "text/plain": [
              "[[0.0, 0.0],\n",
              " [0.0, 2.0],\n",
              " [2.0, 2.0],\n",
              " [0.0, -2.0],\n",
              " [2.0, -2.0],\n",
              " [2.0, -1.0],\n",
              " [2.0, 1.0]]"
            ]
          },
          "metadata": {
            "tags": []
          },
          "execution_count": 58
        }
      ]
    },
    {
      "cell_type": "code",
      "metadata": {
        "id": "R-X5pwH-iHt0",
        "outputId": "b8c5628d-3899-456f-dd65-465486ad049a"
      },
      "source": [
        "def dist(a, b):\n",
        "    foo, bar = coords[a], coords[b]\n",
        "    return abs(foo[0]-bar[0]) + abs(foo[1]-bar[1])\n",
        "\n",
        "adj = []\n",
        "for i in range(len(coords)):\n",
        "    foo = []\n",
        "    for j in range(len(coords)):\n",
        "        if i != j and dist(i, j) <= k:\n",
        "            foo.append(j)\n",
        "    adj.append(foo)\n",
        "adj    "
      ],
      "execution_count": null,
      "outputs": [
        {
          "output_type": "execute_result",
          "data": {
            "text/plain": [
              "[[1, 3], [0, 2], [1, 6], [0, 4], [3, 5], [4, 6], [2, 5]]"
            ]
          },
          "metadata": {
            "tags": []
          },
          "execution_count": 114
        }
      ]
    },
    {
      "cell_type": "code",
      "metadata": {
        "id": "dMRXXDx5iHt1",
        "outputId": "283e7950-3dbd-4195-e034-7dc5ac252973"
      },
      "source": [
        "coords"
      ],
      "execution_count": null,
      "outputs": [
        {
          "output_type": "execute_result",
          "data": {
            "text/plain": [
              "[[0.0, 0.0],\n",
              " [0.0, 2.0],\n",
              " [2.0, 2.0],\n",
              " [0.0, -2.0],\n",
              " [2.0, -2.0],\n",
              " [2.0, -1.0],\n",
              " [2.0, 1.0]]"
            ]
          },
          "metadata": {
            "tags": []
          },
          "execution_count": 61
        }
      ]
    },
    {
      "cell_type": "code",
      "metadata": {
        "id": "xKJ_oxYgiHt1",
        "outputId": "f87f1f69-e704-410c-eefe-a8a53aaee383"
      },
      "source": [
        "def bfs(s):\n",
        "    cost = [-1]*len(adj)\n",
        "    cost[s] = 0\n",
        "    ttlcost = cost[:]\n",
        "    queue = [s]\n",
        "    while queue:\n",
        "        v = queue.pop(0)\n",
        "        for w in adj[v]:\n",
        "            if cost[w] == -1:\n",
        "                queue.append(w)\n",
        "                cost[w] = cost[v] + 1\n",
        "                ttlcost[w] = ttlcost[v] + dist(w, v)\n",
        "    return cost, ttlcost\n",
        "\n",
        "cost, ttlcost = bfs(start)        \n",
        "print(f\"# roads = {cost[finish]}, # km = {int(ttlcost[finish])}\")"
      ],
      "execution_count": null,
      "outputs": [
        {
          "output_type": "stream",
          "text": [
            "# roads = 2, # km = 4\n"
          ],
          "name": "stdout"
        }
      ]
    },
    {
      "cell_type": "code",
      "metadata": {
        "id": "2T0HBV9HiHt2",
        "outputId": "a6135cb7-0218-42c2-adbb-f8b4efb043fb"
      },
      "source": [
        "'''\n",
        "дан класс и цикл. надо дописать класс чтобы \n",
        "цикл вывел все цифры в списке списков. \n",
        "Но нельзя использовать метод pop(), \n",
        "нельзя превратить список списков в плоский список\n",
        "\n",
        "class MultiIterator:\n",
        "    def __init__(self, list_of_lists):\n",
        "        pass\n",
        "    def has_next(self):\n",
        "        pass\n",
        "    def get_next(self):\n",
        "        pass\n",
        "    \n",
        "d = [\n",
        "    [1, 2], [90, 32 , 80]\n",
        "]            \n",
        "\n",
        "m = MultiIterator(d)\n",
        "while m.has_next():\n",
        "    print(m.get_next())\n",
        "'''\n",
        "\n",
        "\n",
        "class MultiIterator:\n",
        "    def __init__(self, list_of_lists):\n",
        "        self.d = list_of_lists\n",
        "        self.ix_c = 0\n",
        "        self.ix_p = 0\n",
        "        \n",
        "    def has_next(self):\n",
        "        return not (len(self.d) == 0 or (len(self.d)-1 < self.ix_p) or ((0 == self.ix_c) and (sum([len(i) for i in self.d[self.ix_p:]]) == 0)))\n",
        "    \n",
        "    def get_next(self):\n",
        "        l = len(self.d[self.ix_p])\n",
        "        while l == 0:\n",
        "            self.ix_p += 1\n",
        "            l = len(self.d[self.ix_p])\n",
        "\n",
        "        r = self.d[self.ix_p][self.ix_c]\n",
        "\n",
        "        if len(self.d[self.ix_p])-1 > self.ix_c:\n",
        "            self.ix_c += 1\n",
        "        elif len(self.d[self.ix_p])-1 == self.ix_c:\n",
        "            self.ix_c = 0\n",
        "            self.ix_p += 1\n",
        "            \n",
        "        return r\n",
        "        \n",
        "d = [\n",
        "    [],[1, 2], [90, 32 , 80],[],[15,50],[]\n",
        "]            \n",
        "\n",
        "m = MultiIterator(d)\n",
        "while m.has_next():\n",
        "    print(m.get_next())\n",
        "    \n"
      ],
      "execution_count": null,
      "outputs": [
        {
          "output_type": "stream",
          "text": [
            "1\n",
            "2\n",
            "90\n",
            "32\n",
            "80\n",
            "15\n",
            "50\n"
          ],
          "name": "stdout"
        }
      ]
    },
    {
      "cell_type": "code",
      "metadata": {
        "colab": {
          "base_uri": "https://localhost:8080/"
        },
        "id": "0DRpR_Q2iHt3",
        "outputId": "f4f5c00a-9745-4736-9da7-6f51eca61468"
      },
      "source": [
        "class MultiIterator:\n",
        "    def __init__(self, list_of_lists):\n",
        "        self.l = list_of_lists\n",
        "        self.p = 0\n",
        "        self.c = 0\n",
        "    def has_next(self):\n",
        "        p = self.p\n",
        "        mpi = len(self.l)-1\n",
        "        if p <= mpi and len(self.l[p]) == 0:\n",
        "            self.c = 0\n",
        "            for i in range(p, mpi+1):\n",
        "                if len(self.l[i]) > 0:\n",
        "                    self.p = i\n",
        "                    break\n",
        "        return p <= mpi and len(self.l[self.p]) > 0\n",
        "                \n",
        "    def get_next(self):\n",
        "        p,c = self.p, self.c\n",
        "        self.c += 1\n",
        "        if c == len(self.l[p])-1:\n",
        "            self.p += 1\n",
        "            self.c = 0\n",
        "        return self.l[p][c]\n",
        "        \n",
        "    \n",
        "d = [\n",
        "    [],[1, 2],[], [90, 32 , 80],[]\n",
        "]            \n",
        "\n",
        "m = MultiIterator(d)\n",
        "while m.has_next():\n",
        "    print(m.get_next())"
      ],
      "execution_count": 2,
      "outputs": [
        {
          "output_type": "stream",
          "text": [
            "1\n",
            "2\n",
            "90\n",
            "32\n",
            "80\n"
          ],
          "name": "stdout"
        }
      ]
    },
    {
      "cell_type": "code",
      "metadata": {
        "id": "kWGSgfN-iHt3"
      },
      "source": [
        ""
      ],
      "execution_count": null,
      "outputs": []
    }
  ]
}